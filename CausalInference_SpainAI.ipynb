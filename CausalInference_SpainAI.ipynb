{
 "cells": [
  {
   "cell_type": "markdown",
   "metadata": {
    "slideshow": {
     "slide_type": "slide"
    }
   },
   "source": [
    "# Whoami\n",
    "\n",
    "## Rubén Martínez Sánchez\n",
    "\n",
    "![image](imgs/rm.resized.jpg)\n",
    "\n",
    "* Computer Engineer (Universidad Politécnica Madrid)\n",
    "* Data Scientist / AI Researcher\n",
    "* Security Researcher (Pentester) \n",
    "* Certified Etical Hacker (CEH)\n",
    "* Member of MundoHacker (TV Show)\n",
    "* Project DIA4RA\n",
    "* Master's degree Tokyo Data Science\n",
    "* Postgraduate course in Artificial Intelligence with Deep Learning (UPC)\n",
    "* Artificial Intelligent MSc student (UNIR)\n",
    "* Quantum Computing course offered by MIT and QubitbyQubit\n",
    " "
   ]
  },
  {
   "cell_type": "markdown",
   "metadata": {
    "slideshow": {
     "slide_type": "slide"
    }
   },
   "source": [
    "# Whoami\n",
    "\n",
    "## Rubén Martínez Sánchez\n",
    "\n",
    "![image](imgs/rm.resized.jpg)\n",
    "\n",
    "* LinkedIn: https://www.linkedin.com/in/rubén-martínez-sánchez/\n",
    "* Twitter: @eldarsilver\n",
    "* Web: https://eldarsilver.github.io/ruben.martinez/\n",
    "* Github: https://github.com/eldarsilver/\n"
   ]
  },
  {
   "cell_type": "markdown",
   "metadata": {
    "slideshow": {
     "slide_type": "slide"
    }
   },
   "source": [
    "# Why do we need Causality when we already have ML & DL?\n",
    "\n",
    "\n",
    "&nbsp;\n",
    "\n",
    "![image](imgs/AI_ML_DL.png)\n"
   ]
  },
  {
   "cell_type": "markdown",
   "metadata": {
    "slideshow": {
     "slide_type": "subslide"
    }
   },
   "source": [
    "# Why do we need Causality when we already have ML & DL?\n",
    "\n",
    "&nbsp;\n",
    "![image](imgs/DL.png)"
   ]
  },
  {
   "cell_type": "markdown",
   "metadata": {
    "slideshow": {
     "slide_type": "slide"
    }
   },
   "source": [
    "# Statistics 101\n",
    "\n",
    "## Population vs Sample\n",
    "\n",
    "![image](imgs/Sample.resized.jpg)"
   ]
  },
  {
   "cell_type": "markdown",
   "metadata": {
    "slideshow": {
     "slide_type": "subslide"
    }
   },
   "source": [
    "# Statistics 101\n",
    "\n",
    "## Arithmetic & Geometric Mean\n",
    "\n",
    "![image](imgs/arit_mean.png)\n",
    "&nbsp;\n",
    "![image](imgs/g_mean.png)"
   ]
  },
  {
   "cell_type": "markdown",
   "metadata": {
    "slideshow": {
     "slide_type": "subslide"
    }
   },
   "source": [
    "# Statistics 101\n",
    "\n",
    "## Variance & Standard Deviation\n",
    "\n",
    "&nbsp;\n",
    "![image](imgs/variance.png)\n",
    "&nbsp;\n",
    "![image](imgs/std.png)"
   ]
  },
  {
   "cell_type": "markdown",
   "metadata": {
    "slideshow": {
     "slide_type": "subslide"
    }
   },
   "source": [
    "# Statistics 101\n",
    "\n",
    "## Covariance, Pearson Correlation Coefficient\n",
    "\n",
    "&nbsp;\n",
    "![image](imgs/cov.png)\n",
    "&nbsp;\n",
    "![image](imgs/Pearson_corr.png)\n",
    "&nbsp;"
   ]
  },
  {
   "cell_type": "markdown",
   "metadata": {
    "slideshow": {
     "slide_type": "slide"
    }
   },
   "source": [
    "# Spurious Correlations\n",
    "\n",
    "&nbsp;\n",
    "![image](imgs/spurious.png)\n",
    "&nbsp;\n",
    "Source: https://www.tylervigen.com/spurious-correlations\n",
    "&nbsp;"
   ]
  },
  {
   "cell_type": "markdown",
   "metadata": {
    "slideshow": {
     "slide_type": "subslide"
    }
   },
   "source": [
    "# Spurious Correlations\n",
    "\n",
    "&nbsp;\n",
    "![image](imgs/spurious2.png)\n",
    "&nbsp;\n",
    "Source: https://www.tylervigen.com/spurious-correlations\n",
    "&nbsp;"
   ]
  },
  {
   "cell_type": "markdown",
   "metadata": {
    "slideshow": {
     "slide_type": "subslide"
    }
   },
   "source": [
    "# Spurious Correlations \n",
    "\n",
    "## Code Example\n"
   ]
  },
  {
   "cell_type": "code",
   "execution_count": 1,
   "metadata": {
    "slideshow": {
     "slide_type": "subslide"
    }
   },
   "outputs": [
    {
     "name": "stdout",
     "output_type": "stream",
     "text": [
      "   Shark_Attack  Ice_Cream_Sale  Month  Temperature\n",
      "0             0              40      1         5.00\n",
      "1             0              90      2        11.22\n",
      "2             0             120      3        14.96\n",
      "3             2             150      4        18.70\n",
      "4             4             240      5        30.00\n"
     ]
    }
   ],
   "source": [
    "# Import library\n",
    "import pandas as pd\n",
    "\n",
    "# Load dataset\n",
    "df = pd.read_csv(\"spurious.csv\")\n",
    "\n",
    "print(df.head())"
   ]
  },
  {
   "cell_type": "code",
   "execution_count": 2,
   "metadata": {
    "slideshow": {
     "slide_type": "subslide"
    }
   },
   "outputs": [
    {
     "data": {
      "text/html": [
       "<div>\n",
       "<style scoped>\n",
       "    .dataframe tbody tr th:only-of-type {\n",
       "        vertical-align: middle;\n",
       "    }\n",
       "\n",
       "    .dataframe tbody tr th {\n",
       "        vertical-align: top;\n",
       "    }\n",
       "\n",
       "    .dataframe thead th {\n",
       "        text-align: right;\n",
       "    }\n",
       "</style>\n",
       "<table border=\"1\" class=\"dataframe\">\n",
       "  <thead>\n",
       "    <tr style=\"text-align: right;\">\n",
       "      <th></th>\n",
       "      <th>Shark_Attack</th>\n",
       "      <th>Ice_Cream_Sale</th>\n",
       "      <th>Month</th>\n",
       "      <th>Temperature</th>\n",
       "    </tr>\n",
       "  </thead>\n",
       "  <tbody>\n",
       "    <tr>\n",
       "      <th>Shark_Attack</th>\n",
       "      <td>1.000000</td>\n",
       "      <td>0.970144</td>\n",
       "      <td>0.230589</td>\n",
       "      <td>0.951502</td>\n",
       "    </tr>\n",
       "    <tr>\n",
       "      <th>Ice_Cream_Sale</th>\n",
       "      <td>0.970144</td>\n",
       "      <td>1.000000</td>\n",
       "      <td>0.105998</td>\n",
       "      <td>0.995378</td>\n",
       "    </tr>\n",
       "    <tr>\n",
       "      <th>Month</th>\n",
       "      <td>0.230589</td>\n",
       "      <td>0.105998</td>\n",
       "      <td>1.000000</td>\n",
       "      <td>0.057044</td>\n",
       "    </tr>\n",
       "    <tr>\n",
       "      <th>Temperature</th>\n",
       "      <td>0.951502</td>\n",
       "      <td>0.995378</td>\n",
       "      <td>0.057044</td>\n",
       "      <td>1.000000</td>\n",
       "    </tr>\n",
       "  </tbody>\n",
       "</table>\n",
       "</div>"
      ],
      "text/plain": [
       "                Shark_Attack  Ice_Cream_Sale     Month  Temperature\n",
       "Shark_Attack        1.000000        0.970144  0.230589     0.951502\n",
       "Ice_Cream_Sale      0.970144        1.000000  0.105998     0.995378\n",
       "Month               0.230589        0.105998  1.000000     0.057044\n",
       "Temperature         0.951502        0.995378  0.057044     1.000000"
      ]
     },
     "execution_count": 2,
     "metadata": {},
     "output_type": "execute_result"
    }
   ],
   "source": [
    "# Pearson Correlation Coefficients\n",
    "df.corr(method='pearson')"
   ]
  },
  {
   "cell_type": "markdown",
   "metadata": {
    "slideshow": {
     "slide_type": "subslide"
    }
   },
   "source": [
    "# Limitations of ML & DL\n",
    "&nbsp;\n",
    "![image](imgs/keras.png)\n",
    "\n",
    "![image](imgs/ladder.png)\n",
    "\n",
    "![image](imgs/ladder2.png)"
   ]
  },
  {
   "cell_type": "markdown",
   "metadata": {
    "slideshow": {
     "slide_type": "slide"
    }
   },
   "source": [
    "# Limitations of ML & DL\n",
    "&nbsp;\n",
    "![image](imgs/gpt3.resized.png)"
   ]
  },
  {
   "cell_type": "markdown",
   "metadata": {
    "slideshow": {
     "slide_type": "slide"
    }
   },
   "source": [
    "# Causal Inference Tutorial\n",
    "> In this tutorial we're going to cover techniques like Inverse Propensity Score, Matching, Doubly Robust Weighted Estimator, Trimming and Stratification.\n",
    "\n",
    "&nbsp;\n",
    "> We want to measure the effect of smoking cessation on weight gain using the National Health and Nutrition Examionation Survey Epidemiologic Followup Study (NHEFS) dataset. This study was driven for 11 years (1971-1982). Each subject was weighted twice. The first one was at the begining of the experiment (1971) and the second one, at the end of this experiment in 1982.\n"
   ]
  },
  {
   "cell_type": "markdown",
   "metadata": {
    "slideshow": {
     "slide_type": "slide"
    }
   },
   "source": [
    "## Import libraries"
   ]
  },
  {
   "cell_type": "code",
   "execution_count": 3,
   "metadata": {
    "slideshow": {
     "slide_type": "subslide"
    }
   },
   "outputs": [],
   "source": [
    "import pandas as pd\n",
    "from causalinference import CausalModel\n",
    "import seaborn as sns\n",
    "import matplotlib as plt\n",
    "import numpy as np\n",
    "%matplotlib inline"
   ]
  },
  {
   "cell_type": "code",
   "execution_count": 4,
   "metadata": {
    "slideshow": {
     "slide_type": "subslide"
    }
   },
   "outputs": [],
   "source": [
    "pd.set_option('display.max_columns', None)\n",
    "pd.set_option('display.max_rows', None)"
   ]
  },
  {
   "cell_type": "markdown",
   "metadata": {
    "slideshow": {
     "slide_type": "slide"
    }
   },
   "source": [
    "## Load data"
   ]
  },
  {
   "cell_type": "code",
   "execution_count": 5,
   "metadata": {
    "slideshow": {
     "slide_type": "subslide"
    }
   },
   "outputs": [],
   "source": [
    "data = pd.read_csv(\"https://cdn1.sph.harvard.edu/wp-content/uploads/sites/1268/1268/20/nhefs.csv\")"
   ]
  },
  {
   "cell_type": "markdown",
   "metadata": {
    "slideshow": {
     "slide_type": "slide"
    }
   },
   "source": [
    "## Exploratory Data Analysis"
   ]
  },
  {
   "cell_type": "code",
   "execution_count": 6,
   "metadata": {
    "slideshow": {
     "slide_type": "subslide"
    }
   },
   "outputs": [
    {
     "data": {
      "text/plain": [
       "Index(['seqn', 'qsmk', 'death', 'yrdth', 'modth', 'dadth', 'sbp', 'dbp', 'sex',\n",
       "       'age', 'race', 'income', 'marital', 'school', 'education', 'ht', 'wt71',\n",
       "       'wt82', 'wt82_71', 'birthplace', 'smokeintensity', 'smkintensity82_71',\n",
       "       'smokeyrs', 'asthma', 'bronch', 'tb', 'hf', 'hbp', 'pepticulcer',\n",
       "       'colitis', 'hepatitis', 'chroniccough', 'hayfever', 'diabetes', 'polio',\n",
       "       'tumor', 'nervousbreak', 'alcoholpy', 'alcoholfreq', 'alcoholtype',\n",
       "       'alcoholhowmuch', 'pica', 'headache', 'otherpain', 'weakheart',\n",
       "       'allergies', 'nerves', 'lackpep', 'hbpmed', 'boweltrouble', 'wtloss',\n",
       "       'infection', 'active', 'exercise', 'birthcontrol', 'pregnancies',\n",
       "       'cholesterol', 'hightax82', 'price71', 'price82', 'tax71', 'tax82',\n",
       "       'price71_82', 'tax71_82'],\n",
       "      dtype='object')"
      ]
     },
     "execution_count": 6,
     "metadata": {},
     "output_type": "execute_result"
    }
   ],
   "source": [
    "data.columns"
   ]
  },
  {
   "cell_type": "code",
   "execution_count": 7,
   "metadata": {
    "slideshow": {
     "slide_type": "subslide"
    }
   },
   "outputs": [
    {
     "data": {
      "text/plain": [
       "(1629, 64)"
      ]
     },
     "execution_count": 7,
     "metadata": {},
     "output_type": "execute_result"
    }
   ],
   "source": [
    "data.shape"
   ]
  },
  {
   "cell_type": "code",
   "execution_count": 8,
   "metadata": {
    "slideshow": {
     "slide_type": "subslide"
    }
   },
   "outputs": [
    {
     "name": "stdout",
     "output_type": "stream",
     "text": [
      "<class 'pandas.core.frame.DataFrame'>\n",
      "RangeIndex: 1629 entries, 0 to 1628\n",
      "Data columns (total 64 columns):\n",
      " #   Column             Non-Null Count  Dtype  \n",
      "---  ------             --------------  -----  \n",
      " 0   seqn               1629 non-null   int64  \n",
      " 1   qsmk               1629 non-null   int64  \n",
      " 2   death              1629 non-null   int64  \n",
      " 3   yrdth              318 non-null    float64\n",
      " 4   modth              322 non-null    float64\n",
      " 5   dadth              322 non-null    float64\n",
      " 6   sbp                1552 non-null   float64\n",
      " 7   dbp                1548 non-null   float64\n",
      " 8   sex                1629 non-null   int64  \n",
      " 9   age                1629 non-null   int64  \n",
      " 10  race               1629 non-null   int64  \n",
      " 11  income             1567 non-null   float64\n",
      " 12  marital            1629 non-null   int64  \n",
      " 13  school             1629 non-null   int64  \n",
      " 14  education          1629 non-null   int64  \n",
      " 15  ht                 1629 non-null   float64\n",
      " 16  wt71               1629 non-null   float64\n",
      " 17  wt82               1566 non-null   float64\n",
      " 18  wt82_71            1566 non-null   float64\n",
      " 19  birthplace         1537 non-null   float64\n",
      " 20  smokeintensity     1629 non-null   int64  \n",
      " 21  smkintensity82_71  1629 non-null   int64  \n",
      " 22  smokeyrs           1629 non-null   int64  \n",
      " 23  asthma             1629 non-null   int64  \n",
      " 24  bronch             1629 non-null   int64  \n",
      " 25  tb                 1629 non-null   int64  \n",
      " 26  hf                 1629 non-null   int64  \n",
      " 27  hbp                1629 non-null   int64  \n",
      " 28  pepticulcer        1629 non-null   int64  \n",
      " 29  colitis            1629 non-null   int64  \n",
      " 30  hepatitis          1629 non-null   int64  \n",
      " 31  chroniccough       1629 non-null   int64  \n",
      " 32  hayfever           1629 non-null   int64  \n",
      " 33  diabetes           1629 non-null   int64  \n",
      " 34  polio              1629 non-null   int64  \n",
      " 35  tumor              1629 non-null   int64  \n",
      " 36  nervousbreak       1629 non-null   int64  \n",
      " 37  alcoholpy          1629 non-null   int64  \n",
      " 38  alcoholfreq        1629 non-null   int64  \n",
      " 39  alcoholtype        1629 non-null   int64  \n",
      " 40  alcoholhowmuch     1212 non-null   float64\n",
      " 41  pica               1629 non-null   int64  \n",
      " 42  headache           1629 non-null   int64  \n",
      " 43  otherpain          1629 non-null   int64  \n",
      " 44  weakheart          1629 non-null   int64  \n",
      " 45  allergies          1629 non-null   int64  \n",
      " 46  nerves             1629 non-null   int64  \n",
      " 47  lackpep            1629 non-null   int64  \n",
      " 48  hbpmed             1629 non-null   int64  \n",
      " 49  boweltrouble       1629 non-null   int64  \n",
      " 50  wtloss             1629 non-null   int64  \n",
      " 51  infection          1629 non-null   int64  \n",
      " 52  active             1629 non-null   int64  \n",
      " 53  exercise           1629 non-null   int64  \n",
      " 54  birthcontrol       1629 non-null   int64  \n",
      " 55  pregnancies        726 non-null    float64\n",
      " 56  cholesterol        1613 non-null   float64\n",
      " 57  hightax82          1537 non-null   float64\n",
      " 58  price71            1537 non-null   float64\n",
      " 59  price82            1537 non-null   float64\n",
      " 60  tax71              1537 non-null   float64\n",
      " 61  tax82              1537 non-null   float64\n",
      " 62  price71_82         1537 non-null   float64\n",
      " 63  tax71_82           1537 non-null   float64\n",
      "dtypes: float64(21), int64(43)\n",
      "memory usage: 814.6 KB\n"
     ]
    }
   ],
   "source": [
    "data.info()"
   ]
  },
  {
   "cell_type": "code",
   "execution_count": 9,
   "metadata": {
    "slideshow": {
     "slide_type": "subslide"
    }
   },
   "outputs": [
    {
     "data": {
      "text/html": [
       "<div>\n",
       "<style scoped>\n",
       "    .dataframe tbody tr th:only-of-type {\n",
       "        vertical-align: middle;\n",
       "    }\n",
       "\n",
       "    .dataframe tbody tr th {\n",
       "        vertical-align: top;\n",
       "    }\n",
       "\n",
       "    .dataframe thead th {\n",
       "        text-align: right;\n",
       "    }\n",
       "</style>\n",
       "<table border=\"1\" class=\"dataframe\">\n",
       "  <thead>\n",
       "    <tr style=\"text-align: right;\">\n",
       "      <th></th>\n",
       "      <th>seqn</th>\n",
       "      <th>qsmk</th>\n",
       "      <th>death</th>\n",
       "      <th>yrdth</th>\n",
       "      <th>modth</th>\n",
       "      <th>dadth</th>\n",
       "      <th>sbp</th>\n",
       "      <th>dbp</th>\n",
       "      <th>sex</th>\n",
       "      <th>age</th>\n",
       "      <th>race</th>\n",
       "      <th>income</th>\n",
       "      <th>marital</th>\n",
       "      <th>school</th>\n",
       "      <th>education</th>\n",
       "      <th>ht</th>\n",
       "      <th>wt71</th>\n",
       "      <th>wt82</th>\n",
       "      <th>wt82_71</th>\n",
       "      <th>birthplace</th>\n",
       "      <th>smokeintensity</th>\n",
       "      <th>smkintensity82_71</th>\n",
       "      <th>smokeyrs</th>\n",
       "      <th>asthma</th>\n",
       "      <th>bronch</th>\n",
       "      <th>tb</th>\n",
       "      <th>hf</th>\n",
       "      <th>hbp</th>\n",
       "      <th>pepticulcer</th>\n",
       "      <th>colitis</th>\n",
       "      <th>hepatitis</th>\n",
       "      <th>chroniccough</th>\n",
       "      <th>hayfever</th>\n",
       "      <th>diabetes</th>\n",
       "      <th>polio</th>\n",
       "      <th>tumor</th>\n",
       "      <th>nervousbreak</th>\n",
       "      <th>alcoholpy</th>\n",
       "      <th>alcoholfreq</th>\n",
       "      <th>alcoholtype</th>\n",
       "      <th>alcoholhowmuch</th>\n",
       "      <th>pica</th>\n",
       "      <th>headache</th>\n",
       "      <th>otherpain</th>\n",
       "      <th>weakheart</th>\n",
       "      <th>allergies</th>\n",
       "      <th>nerves</th>\n",
       "      <th>lackpep</th>\n",
       "      <th>hbpmed</th>\n",
       "      <th>boweltrouble</th>\n",
       "      <th>wtloss</th>\n",
       "      <th>infection</th>\n",
       "      <th>active</th>\n",
       "      <th>exercise</th>\n",
       "      <th>birthcontrol</th>\n",
       "      <th>pregnancies</th>\n",
       "      <th>cholesterol</th>\n",
       "      <th>hightax82</th>\n",
       "      <th>price71</th>\n",
       "      <th>price82</th>\n",
       "      <th>tax71</th>\n",
       "      <th>tax82</th>\n",
       "      <th>price71_82</th>\n",
       "      <th>tax71_82</th>\n",
       "    </tr>\n",
       "  </thead>\n",
       "  <tbody>\n",
       "    <tr>\n",
       "      <th>0</th>\n",
       "      <td>233</td>\n",
       "      <td>0</td>\n",
       "      <td>0</td>\n",
       "      <td>NaN</td>\n",
       "      <td>NaN</td>\n",
       "      <td>NaN</td>\n",
       "      <td>175.0</td>\n",
       "      <td>96.0</td>\n",
       "      <td>0</td>\n",
       "      <td>42</td>\n",
       "      <td>1</td>\n",
       "      <td>19.0</td>\n",
       "      <td>2</td>\n",
       "      <td>7</td>\n",
       "      <td>1</td>\n",
       "      <td>174.1875</td>\n",
       "      <td>79.04</td>\n",
       "      <td>68.946040</td>\n",
       "      <td>-10.093960</td>\n",
       "      <td>47.0</td>\n",
       "      <td>30</td>\n",
       "      <td>-10</td>\n",
       "      <td>29</td>\n",
       "      <td>0</td>\n",
       "      <td>0</td>\n",
       "      <td>0</td>\n",
       "      <td>0</td>\n",
       "      <td>1</td>\n",
       "      <td>1</td>\n",
       "      <td>0</td>\n",
       "      <td>0</td>\n",
       "      <td>0</td>\n",
       "      <td>0</td>\n",
       "      <td>1</td>\n",
       "      <td>0</td>\n",
       "      <td>0</td>\n",
       "      <td>0</td>\n",
       "      <td>1</td>\n",
       "      <td>1</td>\n",
       "      <td>3</td>\n",
       "      <td>7.0</td>\n",
       "      <td>0</td>\n",
       "      <td>1</td>\n",
       "      <td>0</td>\n",
       "      <td>0</td>\n",
       "      <td>0</td>\n",
       "      <td>0</td>\n",
       "      <td>0</td>\n",
       "      <td>1</td>\n",
       "      <td>0</td>\n",
       "      <td>0</td>\n",
       "      <td>0</td>\n",
       "      <td>0</td>\n",
       "      <td>2</td>\n",
       "      <td>2</td>\n",
       "      <td>NaN</td>\n",
       "      <td>197.0</td>\n",
       "      <td>0.0</td>\n",
       "      <td>2.183594</td>\n",
       "      <td>1.739990</td>\n",
       "      <td>1.102295</td>\n",
       "      <td>0.461975</td>\n",
       "      <td>0.443787</td>\n",
       "      <td>0.640381</td>\n",
       "    </tr>\n",
       "    <tr>\n",
       "      <th>1</th>\n",
       "      <td>235</td>\n",
       "      <td>0</td>\n",
       "      <td>0</td>\n",
       "      <td>NaN</td>\n",
       "      <td>NaN</td>\n",
       "      <td>NaN</td>\n",
       "      <td>123.0</td>\n",
       "      <td>80.0</td>\n",
       "      <td>0</td>\n",
       "      <td>36</td>\n",
       "      <td>0</td>\n",
       "      <td>18.0</td>\n",
       "      <td>2</td>\n",
       "      <td>9</td>\n",
       "      <td>2</td>\n",
       "      <td>159.3750</td>\n",
       "      <td>58.63</td>\n",
       "      <td>61.234970</td>\n",
       "      <td>2.604970</td>\n",
       "      <td>42.0</td>\n",
       "      <td>20</td>\n",
       "      <td>-10</td>\n",
       "      <td>24</td>\n",
       "      <td>0</td>\n",
       "      <td>0</td>\n",
       "      <td>0</td>\n",
       "      <td>0</td>\n",
       "      <td>0</td>\n",
       "      <td>0</td>\n",
       "      <td>0</td>\n",
       "      <td>0</td>\n",
       "      <td>0</td>\n",
       "      <td>0</td>\n",
       "      <td>0</td>\n",
       "      <td>0</td>\n",
       "      <td>0</td>\n",
       "      <td>0</td>\n",
       "      <td>1</td>\n",
       "      <td>0</td>\n",
       "      <td>1</td>\n",
       "      <td>4.0</td>\n",
       "      <td>0</td>\n",
       "      <td>1</td>\n",
       "      <td>0</td>\n",
       "      <td>0</td>\n",
       "      <td>0</td>\n",
       "      <td>0</td>\n",
       "      <td>0</td>\n",
       "      <td>0</td>\n",
       "      <td>0</td>\n",
       "      <td>0</td>\n",
       "      <td>1</td>\n",
       "      <td>0</td>\n",
       "      <td>0</td>\n",
       "      <td>2</td>\n",
       "      <td>NaN</td>\n",
       "      <td>301.0</td>\n",
       "      <td>0.0</td>\n",
       "      <td>2.346680</td>\n",
       "      <td>1.797363</td>\n",
       "      <td>1.364990</td>\n",
       "      <td>0.571899</td>\n",
       "      <td>0.549316</td>\n",
       "      <td>0.792969</td>\n",
       "    </tr>\n",
       "    <tr>\n",
       "      <th>2</th>\n",
       "      <td>244</td>\n",
       "      <td>0</td>\n",
       "      <td>0</td>\n",
       "      <td>NaN</td>\n",
       "      <td>NaN</td>\n",
       "      <td>NaN</td>\n",
       "      <td>115.0</td>\n",
       "      <td>75.0</td>\n",
       "      <td>1</td>\n",
       "      <td>56</td>\n",
       "      <td>1</td>\n",
       "      <td>15.0</td>\n",
       "      <td>3</td>\n",
       "      <td>11</td>\n",
       "      <td>2</td>\n",
       "      <td>168.5000</td>\n",
       "      <td>56.81</td>\n",
       "      <td>66.224486</td>\n",
       "      <td>9.414486</td>\n",
       "      <td>51.0</td>\n",
       "      <td>20</td>\n",
       "      <td>-14</td>\n",
       "      <td>26</td>\n",
       "      <td>0</td>\n",
       "      <td>0</td>\n",
       "      <td>0</td>\n",
       "      <td>0</td>\n",
       "      <td>0</td>\n",
       "      <td>0</td>\n",
       "      <td>0</td>\n",
       "      <td>0</td>\n",
       "      <td>0</td>\n",
       "      <td>1</td>\n",
       "      <td>0</td>\n",
       "      <td>0</td>\n",
       "      <td>1</td>\n",
       "      <td>0</td>\n",
       "      <td>1</td>\n",
       "      <td>3</td>\n",
       "      <td>4</td>\n",
       "      <td>NaN</td>\n",
       "      <td>0</td>\n",
       "      <td>1</td>\n",
       "      <td>1</td>\n",
       "      <td>0</td>\n",
       "      <td>0</td>\n",
       "      <td>1</td>\n",
       "      <td>0</td>\n",
       "      <td>0</td>\n",
       "      <td>0</td>\n",
       "      <td>0</td>\n",
       "      <td>0</td>\n",
       "      <td>0</td>\n",
       "      <td>2</td>\n",
       "      <td>0</td>\n",
       "      <td>2.0</td>\n",
       "      <td>157.0</td>\n",
       "      <td>0.0</td>\n",
       "      <td>1.569580</td>\n",
       "      <td>1.513428</td>\n",
       "      <td>0.551270</td>\n",
       "      <td>0.230988</td>\n",
       "      <td>0.056198</td>\n",
       "      <td>0.320251</td>\n",
       "    </tr>\n",
       "    <tr>\n",
       "      <th>3</th>\n",
       "      <td>245</td>\n",
       "      <td>0</td>\n",
       "      <td>1</td>\n",
       "      <td>85.0</td>\n",
       "      <td>2.0</td>\n",
       "      <td>14.0</td>\n",
       "      <td>148.0</td>\n",
       "      <td>78.0</td>\n",
       "      <td>0</td>\n",
       "      <td>68</td>\n",
       "      <td>1</td>\n",
       "      <td>15.0</td>\n",
       "      <td>3</td>\n",
       "      <td>5</td>\n",
       "      <td>1</td>\n",
       "      <td>170.1875</td>\n",
       "      <td>59.42</td>\n",
       "      <td>64.410117</td>\n",
       "      <td>4.990117</td>\n",
       "      <td>37.0</td>\n",
       "      <td>3</td>\n",
       "      <td>4</td>\n",
       "      <td>53</td>\n",
       "      <td>0</td>\n",
       "      <td>0</td>\n",
       "      <td>0</td>\n",
       "      <td>0</td>\n",
       "      <td>1</td>\n",
       "      <td>0</td>\n",
       "      <td>0</td>\n",
       "      <td>0</td>\n",
       "      <td>0</td>\n",
       "      <td>0</td>\n",
       "      <td>0</td>\n",
       "      <td>0</td>\n",
       "      <td>0</td>\n",
       "      <td>0</td>\n",
       "      <td>1</td>\n",
       "      <td>2</td>\n",
       "      <td>3</td>\n",
       "      <td>4.0</td>\n",
       "      <td>0</td>\n",
       "      <td>0</td>\n",
       "      <td>1</td>\n",
       "      <td>1</td>\n",
       "      <td>0</td>\n",
       "      <td>0</td>\n",
       "      <td>0</td>\n",
       "      <td>0</td>\n",
       "      <td>0</td>\n",
       "      <td>0</td>\n",
       "      <td>0</td>\n",
       "      <td>1</td>\n",
       "      <td>2</td>\n",
       "      <td>2</td>\n",
       "      <td>NaN</td>\n",
       "      <td>174.0</td>\n",
       "      <td>0.0</td>\n",
       "      <td>1.506592</td>\n",
       "      <td>1.451904</td>\n",
       "      <td>0.524902</td>\n",
       "      <td>0.219971</td>\n",
       "      <td>0.054794</td>\n",
       "      <td>0.304993</td>\n",
       "    </tr>\n",
       "    <tr>\n",
       "      <th>4</th>\n",
       "      <td>252</td>\n",
       "      <td>0</td>\n",
       "      <td>0</td>\n",
       "      <td>NaN</td>\n",
       "      <td>NaN</td>\n",
       "      <td>NaN</td>\n",
       "      <td>118.0</td>\n",
       "      <td>77.0</td>\n",
       "      <td>0</td>\n",
       "      <td>40</td>\n",
       "      <td>0</td>\n",
       "      <td>18.0</td>\n",
       "      <td>2</td>\n",
       "      <td>11</td>\n",
       "      <td>2</td>\n",
       "      <td>181.8750</td>\n",
       "      <td>87.09</td>\n",
       "      <td>92.079251</td>\n",
       "      <td>4.989251</td>\n",
       "      <td>42.0</td>\n",
       "      <td>20</td>\n",
       "      <td>0</td>\n",
       "      <td>19</td>\n",
       "      <td>0</td>\n",
       "      <td>0</td>\n",
       "      <td>0</td>\n",
       "      <td>0</td>\n",
       "      <td>0</td>\n",
       "      <td>0</td>\n",
       "      <td>0</td>\n",
       "      <td>0</td>\n",
       "      <td>0</td>\n",
       "      <td>0</td>\n",
       "      <td>0</td>\n",
       "      <td>0</td>\n",
       "      <td>0</td>\n",
       "      <td>0</td>\n",
       "      <td>1</td>\n",
       "      <td>2</td>\n",
       "      <td>1</td>\n",
       "      <td>2.0</td>\n",
       "      <td>0</td>\n",
       "      <td>1</td>\n",
       "      <td>0</td>\n",
       "      <td>0</td>\n",
       "      <td>0</td>\n",
       "      <td>0</td>\n",
       "      <td>0</td>\n",
       "      <td>0</td>\n",
       "      <td>1</td>\n",
       "      <td>0</td>\n",
       "      <td>0</td>\n",
       "      <td>1</td>\n",
       "      <td>1</td>\n",
       "      <td>2</td>\n",
       "      <td>NaN</td>\n",
       "      <td>216.0</td>\n",
       "      <td>0.0</td>\n",
       "      <td>2.346680</td>\n",
       "      <td>1.797363</td>\n",
       "      <td>1.364990</td>\n",
       "      <td>0.571899</td>\n",
       "      <td>0.549316</td>\n",
       "      <td>0.792969</td>\n",
       "    </tr>\n",
       "  </tbody>\n",
       "</table>\n",
       "</div>"
      ],
      "text/plain": [
       "   seqn  qsmk  death  yrdth  modth  dadth    sbp   dbp  sex  age  race  \\\n",
       "0   233     0      0    NaN    NaN    NaN  175.0  96.0    0   42     1   \n",
       "1   235     0      0    NaN    NaN    NaN  123.0  80.0    0   36     0   \n",
       "2   244     0      0    NaN    NaN    NaN  115.0  75.0    1   56     1   \n",
       "3   245     0      1   85.0    2.0   14.0  148.0  78.0    0   68     1   \n",
       "4   252     0      0    NaN    NaN    NaN  118.0  77.0    0   40     0   \n",
       "\n",
       "   income  marital  school  education        ht   wt71       wt82    wt82_71  \\\n",
       "0    19.0        2       7          1  174.1875  79.04  68.946040 -10.093960   \n",
       "1    18.0        2       9          2  159.3750  58.63  61.234970   2.604970   \n",
       "2    15.0        3      11          2  168.5000  56.81  66.224486   9.414486   \n",
       "3    15.0        3       5          1  170.1875  59.42  64.410117   4.990117   \n",
       "4    18.0        2      11          2  181.8750  87.09  92.079251   4.989251   \n",
       "\n",
       "   birthplace  smokeintensity  smkintensity82_71  smokeyrs  asthma  bronch  \\\n",
       "0        47.0              30                -10        29       0       0   \n",
       "1        42.0              20                -10        24       0       0   \n",
       "2        51.0              20                -14        26       0       0   \n",
       "3        37.0               3                  4        53       0       0   \n",
       "4        42.0              20                  0        19       0       0   \n",
       "\n",
       "   tb  hf  hbp  pepticulcer  colitis  hepatitis  chroniccough  hayfever  \\\n",
       "0   0   0    1            1        0          0             0         0   \n",
       "1   0   0    0            0        0          0             0         0   \n",
       "2   0   0    0            0        0          0             0         1   \n",
       "3   0   0    1            0        0          0             0         0   \n",
       "4   0   0    0            0        0          0             0         0   \n",
       "\n",
       "   diabetes  polio  tumor  nervousbreak  alcoholpy  alcoholfreq  alcoholtype  \\\n",
       "0         1      0      0             0          1            1            3   \n",
       "1         0      0      0             0          1            0            1   \n",
       "2         0      0      1             0          1            3            4   \n",
       "3         0      0      0             0          1            2            3   \n",
       "4         0      0      0             0          1            2            1   \n",
       "\n",
       "   alcoholhowmuch  pica  headache  otherpain  weakheart  allergies  nerves  \\\n",
       "0             7.0     0         1          0          0          0       0   \n",
       "1             4.0     0         1          0          0          0       0   \n",
       "2             NaN     0         1          1          0          0       1   \n",
       "3             4.0     0         0          1          1          0       0   \n",
       "4             2.0     0         1          0          0          0       0   \n",
       "\n",
       "   lackpep  hbpmed  boweltrouble  wtloss  infection  active  exercise  \\\n",
       "0        0       1             0       0          0       0         2   \n",
       "1        0       0             0       0          1       0         0   \n",
       "2        0       0             0       0          0       0         2   \n",
       "3        0       0             0       0          0       1         2   \n",
       "4        0       0             1       0          0       1         1   \n",
       "\n",
       "   birthcontrol  pregnancies  cholesterol  hightax82   price71   price82  \\\n",
       "0             2          NaN        197.0        0.0  2.183594  1.739990   \n",
       "1             2          NaN        301.0        0.0  2.346680  1.797363   \n",
       "2             0          2.0        157.0        0.0  1.569580  1.513428   \n",
       "3             2          NaN        174.0        0.0  1.506592  1.451904   \n",
       "4             2          NaN        216.0        0.0  2.346680  1.797363   \n",
       "\n",
       "      tax71     tax82  price71_82  tax71_82  \n",
       "0  1.102295  0.461975    0.443787  0.640381  \n",
       "1  1.364990  0.571899    0.549316  0.792969  \n",
       "2  0.551270  0.230988    0.056198  0.320251  \n",
       "3  0.524902  0.219971    0.054794  0.304993  \n",
       "4  1.364990  0.571899    0.549316  0.792969  "
      ]
     },
     "execution_count": 9,
     "metadata": {},
     "output_type": "execute_result"
    }
   ],
   "source": [
    "data.head()"
   ]
  },
  {
   "cell_type": "code",
   "execution_count": 10,
   "metadata": {
    "slideshow": {
     "slide_type": "subslide"
    }
   },
   "outputs": [
    {
     "data": {
      "text/html": [
       "<div>\n",
       "<style scoped>\n",
       "    .dataframe tbody tr th:only-of-type {\n",
       "        vertical-align: middle;\n",
       "    }\n",
       "\n",
       "    .dataframe tbody tr th {\n",
       "        vertical-align: top;\n",
       "    }\n",
       "\n",
       "    .dataframe thead th {\n",
       "        text-align: right;\n",
       "    }\n",
       "</style>\n",
       "<table border=\"1\" class=\"dataframe\">\n",
       "  <thead>\n",
       "    <tr style=\"text-align: right;\">\n",
       "      <th></th>\n",
       "      <th>seqn</th>\n",
       "      <th>qsmk</th>\n",
       "      <th>death</th>\n",
       "      <th>yrdth</th>\n",
       "      <th>modth</th>\n",
       "      <th>dadth</th>\n",
       "      <th>sbp</th>\n",
       "      <th>dbp</th>\n",
       "      <th>sex</th>\n",
       "      <th>age</th>\n",
       "      <th>race</th>\n",
       "      <th>income</th>\n",
       "      <th>marital</th>\n",
       "      <th>school</th>\n",
       "      <th>education</th>\n",
       "      <th>ht</th>\n",
       "      <th>wt71</th>\n",
       "      <th>wt82</th>\n",
       "      <th>wt82_71</th>\n",
       "      <th>birthplace</th>\n",
       "      <th>smokeintensity</th>\n",
       "      <th>smkintensity82_71</th>\n",
       "      <th>smokeyrs</th>\n",
       "      <th>asthma</th>\n",
       "      <th>bronch</th>\n",
       "      <th>tb</th>\n",
       "      <th>hf</th>\n",
       "      <th>hbp</th>\n",
       "      <th>pepticulcer</th>\n",
       "      <th>colitis</th>\n",
       "      <th>hepatitis</th>\n",
       "      <th>chroniccough</th>\n",
       "      <th>hayfever</th>\n",
       "      <th>diabetes</th>\n",
       "      <th>polio</th>\n",
       "      <th>tumor</th>\n",
       "      <th>nervousbreak</th>\n",
       "      <th>alcoholpy</th>\n",
       "      <th>alcoholfreq</th>\n",
       "      <th>alcoholtype</th>\n",
       "      <th>alcoholhowmuch</th>\n",
       "      <th>pica</th>\n",
       "      <th>headache</th>\n",
       "      <th>otherpain</th>\n",
       "      <th>weakheart</th>\n",
       "      <th>allergies</th>\n",
       "      <th>nerves</th>\n",
       "      <th>lackpep</th>\n",
       "      <th>hbpmed</th>\n",
       "      <th>boweltrouble</th>\n",
       "      <th>wtloss</th>\n",
       "      <th>infection</th>\n",
       "      <th>active</th>\n",
       "      <th>exercise</th>\n",
       "      <th>birthcontrol</th>\n",
       "      <th>pregnancies</th>\n",
       "      <th>cholesterol</th>\n",
       "      <th>hightax82</th>\n",
       "      <th>price71</th>\n",
       "      <th>price82</th>\n",
       "      <th>tax71</th>\n",
       "      <th>tax82</th>\n",
       "      <th>price71_82</th>\n",
       "      <th>tax71_82</th>\n",
       "    </tr>\n",
       "  </thead>\n",
       "  <tbody>\n",
       "    <tr>\n",
       "      <th>count</th>\n",
       "      <td>1629.000000</td>\n",
       "      <td>1629.000000</td>\n",
       "      <td>1629.000000</td>\n",
       "      <td>318.000000</td>\n",
       "      <td>322.000000</td>\n",
       "      <td>322.000000</td>\n",
       "      <td>1552.000000</td>\n",
       "      <td>1548.000000</td>\n",
       "      <td>1629.000000</td>\n",
       "      <td>1629.000000</td>\n",
       "      <td>1629.000000</td>\n",
       "      <td>1567.000000</td>\n",
       "      <td>1629.000000</td>\n",
       "      <td>1629.000000</td>\n",
       "      <td>1629.000000</td>\n",
       "      <td>1629.000000</td>\n",
       "      <td>1629.00000</td>\n",
       "      <td>1566.000000</td>\n",
       "      <td>1566.000000</td>\n",
       "      <td>1537.000000</td>\n",
       "      <td>1629.000000</td>\n",
       "      <td>1629.000000</td>\n",
       "      <td>1629.000000</td>\n",
       "      <td>1629.000000</td>\n",
       "      <td>1629.000000</td>\n",
       "      <td>1629.000000</td>\n",
       "      <td>1629.000000</td>\n",
       "      <td>1629.000000</td>\n",
       "      <td>1629.000000</td>\n",
       "      <td>1629.000000</td>\n",
       "      <td>1629.000000</td>\n",
       "      <td>1629.000000</td>\n",
       "      <td>1629.000000</td>\n",
       "      <td>1629.000000</td>\n",
       "      <td>1629.000000</td>\n",
       "      <td>1629.000000</td>\n",
       "      <td>1629.000000</td>\n",
       "      <td>1629.000000</td>\n",
       "      <td>1629.000000</td>\n",
       "      <td>1629.000000</td>\n",
       "      <td>1212.000000</td>\n",
       "      <td>1629.000000</td>\n",
       "      <td>1629.000000</td>\n",
       "      <td>1629.000000</td>\n",
       "      <td>1629.000000</td>\n",
       "      <td>1629.000000</td>\n",
       "      <td>1629.000000</td>\n",
       "      <td>1629.000000</td>\n",
       "      <td>1629.000000</td>\n",
       "      <td>1629.000000</td>\n",
       "      <td>1629.000000</td>\n",
       "      <td>1629.000000</td>\n",
       "      <td>1629.000000</td>\n",
       "      <td>1629.000000</td>\n",
       "      <td>1629.000000</td>\n",
       "      <td>726.00000</td>\n",
       "      <td>1613.000000</td>\n",
       "      <td>1537.000000</td>\n",
       "      <td>1537.000000</td>\n",
       "      <td>1537.000000</td>\n",
       "      <td>1537.000000</td>\n",
       "      <td>1537.000000</td>\n",
       "      <td>1537.000000</td>\n",
       "      <td>1537.000000</td>\n",
       "    </tr>\n",
       "    <tr>\n",
       "      <th>mean</th>\n",
       "      <td>16552.364641</td>\n",
       "      <td>0.262738</td>\n",
       "      <td>0.195212</td>\n",
       "      <td>87.569182</td>\n",
       "      <td>6.257764</td>\n",
       "      <td>15.872671</td>\n",
       "      <td>128.709407</td>\n",
       "      <td>77.744832</td>\n",
       "      <td>0.509515</td>\n",
       "      <td>43.915285</td>\n",
       "      <td>0.131983</td>\n",
       "      <td>17.947671</td>\n",
       "      <td>2.503376</td>\n",
       "      <td>11.135052</td>\n",
       "      <td>2.703499</td>\n",
       "      <td>168.740965</td>\n",
       "      <td>71.05213</td>\n",
       "      <td>73.469219</td>\n",
       "      <td>2.638300</td>\n",
       "      <td>31.595316</td>\n",
       "      <td>20.551258</td>\n",
       "      <td>-4.737876</td>\n",
       "      <td>24.871087</td>\n",
       "      <td>0.048496</td>\n",
       "      <td>0.085328</td>\n",
       "      <td>0.014119</td>\n",
       "      <td>0.004911</td>\n",
       "      <td>1.050952</td>\n",
       "      <td>0.103745</td>\n",
       "      <td>0.033763</td>\n",
       "      <td>0.017188</td>\n",
       "      <td>0.054021</td>\n",
       "      <td>0.089626</td>\n",
       "      <td>0.979742</td>\n",
       "      <td>0.014119</td>\n",
       "      <td>0.023327</td>\n",
       "      <td>0.028852</td>\n",
       "      <td>0.875998</td>\n",
       "      <td>1.920196</td>\n",
       "      <td>2.475752</td>\n",
       "      <td>3.287129</td>\n",
       "      <td>0.975445</td>\n",
       "      <td>0.629834</td>\n",
       "      <td>0.246163</td>\n",
       "      <td>0.022099</td>\n",
       "      <td>0.062001</td>\n",
       "      <td>0.144260</td>\n",
       "      <td>0.050952</td>\n",
       "      <td>1.005525</td>\n",
       "      <td>1.034991</td>\n",
       "      <td>0.025783</td>\n",
       "      <td>0.147944</td>\n",
       "      <td>0.651934</td>\n",
       "      <td>1.195212</td>\n",
       "      <td>1.084715</td>\n",
       "      <td>3.69146</td>\n",
       "      <td>219.973962</td>\n",
       "      <td>0.165908</td>\n",
       "      <td>2.138750</td>\n",
       "      <td>1.806095</td>\n",
       "      <td>1.058581</td>\n",
       "      <td>0.505983</td>\n",
       "      <td>0.332741</td>\n",
       "      <td>0.552614</td>\n",
       "    </tr>\n",
       "    <tr>\n",
       "      <th>std</th>\n",
       "      <td>7498.918195</td>\n",
       "      <td>0.440256</td>\n",
       "      <td>0.396485</td>\n",
       "      <td>2.659415</td>\n",
       "      <td>3.615304</td>\n",
       "      <td>8.905488</td>\n",
       "      <td>19.051560</td>\n",
       "      <td>10.634864</td>\n",
       "      <td>0.500063</td>\n",
       "      <td>12.170430</td>\n",
       "      <td>0.338576</td>\n",
       "      <td>2.663277</td>\n",
       "      <td>1.082367</td>\n",
       "      <td>3.089601</td>\n",
       "      <td>1.190098</td>\n",
       "      <td>9.053131</td>\n",
       "      <td>15.72959</td>\n",
       "      <td>16.158047</td>\n",
       "      <td>7.879913</td>\n",
       "      <td>14.500500</td>\n",
       "      <td>11.803754</td>\n",
       "      <td>13.741360</td>\n",
       "      <td>12.198072</td>\n",
       "      <td>0.214878</td>\n",
       "      <td>0.279456</td>\n",
       "      <td>0.118018</td>\n",
       "      <td>0.069928</td>\n",
       "      <td>0.958209</td>\n",
       "      <td>0.305023</td>\n",
       "      <td>0.180674</td>\n",
       "      <td>0.130013</td>\n",
       "      <td>0.226128</td>\n",
       "      <td>0.285732</td>\n",
       "      <td>0.995793</td>\n",
       "      <td>0.118018</td>\n",
       "      <td>0.150987</td>\n",
       "      <td>0.167442</td>\n",
       "      <td>0.338873</td>\n",
       "      <td>1.307140</td>\n",
       "      <td>1.208155</td>\n",
       "      <td>2.984695</td>\n",
       "      <td>0.997853</td>\n",
       "      <td>0.482997</td>\n",
       "      <td>0.430907</td>\n",
       "      <td>0.147052</td>\n",
       "      <td>0.241232</td>\n",
       "      <td>0.351461</td>\n",
       "      <td>0.219966</td>\n",
       "      <td>0.982947</td>\n",
       "      <td>0.967216</td>\n",
       "      <td>0.158535</td>\n",
       "      <td>0.355153</td>\n",
       "      <td>0.652742</td>\n",
       "      <td>0.739348</td>\n",
       "      <td>0.947747</td>\n",
       "      <td>2.20560</td>\n",
       "      <td>45.444202</td>\n",
       "      <td>0.372119</td>\n",
       "      <td>0.229016</td>\n",
       "      <td>0.130641</td>\n",
       "      <td>0.216229</td>\n",
       "      <td>0.111894</td>\n",
       "      <td>0.155045</td>\n",
       "      <td>0.150321</td>\n",
       "    </tr>\n",
       "    <tr>\n",
       "      <th>min</th>\n",
       "      <td>233.000000</td>\n",
       "      <td>0.000000</td>\n",
       "      <td>0.000000</td>\n",
       "      <td>83.000000</td>\n",
       "      <td>1.000000</td>\n",
       "      <td>1.000000</td>\n",
       "      <td>87.000000</td>\n",
       "      <td>47.000000</td>\n",
       "      <td>0.000000</td>\n",
       "      <td>25.000000</td>\n",
       "      <td>0.000000</td>\n",
       "      <td>11.000000</td>\n",
       "      <td>2.000000</td>\n",
       "      <td>0.000000</td>\n",
       "      <td>1.000000</td>\n",
       "      <td>142.875000</td>\n",
       "      <td>36.17000</td>\n",
       "      <td>35.380205</td>\n",
       "      <td>-41.280470</td>\n",
       "      <td>1.000000</td>\n",
       "      <td>1.000000</td>\n",
       "      <td>-80.000000</td>\n",
       "      <td>1.000000</td>\n",
       "      <td>0.000000</td>\n",
       "      <td>0.000000</td>\n",
       "      <td>0.000000</td>\n",
       "      <td>0.000000</td>\n",
       "      <td>0.000000</td>\n",
       "      <td>0.000000</td>\n",
       "      <td>0.000000</td>\n",
       "      <td>0.000000</td>\n",
       "      <td>0.000000</td>\n",
       "      <td>0.000000</td>\n",
       "      <td>0.000000</td>\n",
       "      <td>0.000000</td>\n",
       "      <td>0.000000</td>\n",
       "      <td>0.000000</td>\n",
       "      <td>0.000000</td>\n",
       "      <td>0.000000</td>\n",
       "      <td>1.000000</td>\n",
       "      <td>1.000000</td>\n",
       "      <td>0.000000</td>\n",
       "      <td>0.000000</td>\n",
       "      <td>0.000000</td>\n",
       "      <td>0.000000</td>\n",
       "      <td>0.000000</td>\n",
       "      <td>0.000000</td>\n",
       "      <td>0.000000</td>\n",
       "      <td>0.000000</td>\n",
       "      <td>0.000000</td>\n",
       "      <td>0.000000</td>\n",
       "      <td>0.000000</td>\n",
       "      <td>0.000000</td>\n",
       "      <td>0.000000</td>\n",
       "      <td>0.000000</td>\n",
       "      <td>1.00000</td>\n",
       "      <td>78.000000</td>\n",
       "      <td>0.000000</td>\n",
       "      <td>1.506592</td>\n",
       "      <td>1.451904</td>\n",
       "      <td>0.524902</td>\n",
       "      <td>0.219971</td>\n",
       "      <td>-0.202698</td>\n",
       "      <td>0.035995</td>\n",
       "    </tr>\n",
       "    <tr>\n",
       "      <th>25%</th>\n",
       "      <td>10607.000000</td>\n",
       "      <td>0.000000</td>\n",
       "      <td>0.000000</td>\n",
       "      <td>85.000000</td>\n",
       "      <td>3.000000</td>\n",
       "      <td>8.000000</td>\n",
       "      <td>116.000000</td>\n",
       "      <td>70.000000</td>\n",
       "      <td>0.000000</td>\n",
       "      <td>33.000000</td>\n",
       "      <td>0.000000</td>\n",
       "      <td>17.000000</td>\n",
       "      <td>2.000000</td>\n",
       "      <td>10.000000</td>\n",
       "      <td>2.000000</td>\n",
       "      <td>161.781250</td>\n",
       "      <td>59.65000</td>\n",
       "      <td>61.688562</td>\n",
       "      <td>-1.478399</td>\n",
       "      <td>22.000000</td>\n",
       "      <td>10.000000</td>\n",
       "      <td>-10.000000</td>\n",
       "      <td>15.000000</td>\n",
       "      <td>0.000000</td>\n",
       "      <td>0.000000</td>\n",
       "      <td>0.000000</td>\n",
       "      <td>0.000000</td>\n",
       "      <td>0.000000</td>\n",
       "      <td>0.000000</td>\n",
       "      <td>0.000000</td>\n",
       "      <td>0.000000</td>\n",
       "      <td>0.000000</td>\n",
       "      <td>0.000000</td>\n",
       "      <td>0.000000</td>\n",
       "      <td>0.000000</td>\n",
       "      <td>0.000000</td>\n",
       "      <td>0.000000</td>\n",
       "      <td>1.000000</td>\n",
       "      <td>1.000000</td>\n",
       "      <td>1.000000</td>\n",
       "      <td>2.000000</td>\n",
       "      <td>0.000000</td>\n",
       "      <td>0.000000</td>\n",
       "      <td>0.000000</td>\n",
       "      <td>0.000000</td>\n",
       "      <td>0.000000</td>\n",
       "      <td>0.000000</td>\n",
       "      <td>0.000000</td>\n",
       "      <td>0.000000</td>\n",
       "      <td>0.000000</td>\n",
       "      <td>0.000000</td>\n",
       "      <td>0.000000</td>\n",
       "      <td>0.000000</td>\n",
       "      <td>1.000000</td>\n",
       "      <td>0.000000</td>\n",
       "      <td>2.00000</td>\n",
       "      <td>189.000000</td>\n",
       "      <td>0.000000</td>\n",
       "      <td>2.036621</td>\n",
       "      <td>1.739990</td>\n",
       "      <td>0.944946</td>\n",
       "      <td>0.439941</td>\n",
       "      <td>0.200989</td>\n",
       "      <td>0.460999</td>\n",
       "    </tr>\n",
       "    <tr>\n",
       "      <th>50%</th>\n",
       "      <td>20333.000000</td>\n",
       "      <td>0.000000</td>\n",
       "      <td>0.000000</td>\n",
       "      <td>88.000000</td>\n",
       "      <td>6.000000</td>\n",
       "      <td>15.500000</td>\n",
       "      <td>126.000000</td>\n",
       "      <td>77.000000</td>\n",
       "      <td>1.000000</td>\n",
       "      <td>44.000000</td>\n",
       "      <td>0.000000</td>\n",
       "      <td>19.000000</td>\n",
       "      <td>2.000000</td>\n",
       "      <td>12.000000</td>\n",
       "      <td>3.000000</td>\n",
       "      <td>168.281250</td>\n",
       "      <td>69.40000</td>\n",
       "      <td>72.121187</td>\n",
       "      <td>2.603811</td>\n",
       "      <td>34.000000</td>\n",
       "      <td>20.000000</td>\n",
       "      <td>-1.000000</td>\n",
       "      <td>24.000000</td>\n",
       "      <td>0.000000</td>\n",
       "      <td>0.000000</td>\n",
       "      <td>0.000000</td>\n",
       "      <td>0.000000</td>\n",
       "      <td>1.000000</td>\n",
       "      <td>0.000000</td>\n",
       "      <td>0.000000</td>\n",
       "      <td>0.000000</td>\n",
       "      <td>0.000000</td>\n",
       "      <td>0.000000</td>\n",
       "      <td>0.000000</td>\n",
       "      <td>0.000000</td>\n",
       "      <td>0.000000</td>\n",
       "      <td>0.000000</td>\n",
       "      <td>1.000000</td>\n",
       "      <td>2.000000</td>\n",
       "      <td>3.000000</td>\n",
       "      <td>2.000000</td>\n",
       "      <td>0.000000</td>\n",
       "      <td>1.000000</td>\n",
       "      <td>0.000000</td>\n",
       "      <td>0.000000</td>\n",
       "      <td>0.000000</td>\n",
       "      <td>0.000000</td>\n",
       "      <td>0.000000</td>\n",
       "      <td>1.000000</td>\n",
       "      <td>1.000000</td>\n",
       "      <td>0.000000</td>\n",
       "      <td>0.000000</td>\n",
       "      <td>1.000000</td>\n",
       "      <td>1.000000</td>\n",
       "      <td>1.000000</td>\n",
       "      <td>3.00000</td>\n",
       "      <td>216.000000</td>\n",
       "      <td>0.000000</td>\n",
       "      <td>2.167969</td>\n",
       "      <td>1.814941</td>\n",
       "      <td>1.049805</td>\n",
       "      <td>0.505981</td>\n",
       "      <td>0.335999</td>\n",
       "      <td>0.543945</td>\n",
       "    </tr>\n",
       "    <tr>\n",
       "      <th>75%</th>\n",
       "      <td>22719.000000</td>\n",
       "      <td>1.000000</td>\n",
       "      <td>0.000000</td>\n",
       "      <td>90.000000</td>\n",
       "      <td>10.000000</td>\n",
       "      <td>24.000000</td>\n",
       "      <td>140.000000</td>\n",
       "      <td>85.000000</td>\n",
       "      <td>1.000000</td>\n",
       "      <td>53.000000</td>\n",
       "      <td>0.000000</td>\n",
       "      <td>20.000000</td>\n",
       "      <td>2.000000</td>\n",
       "      <td>12.000000</td>\n",
       "      <td>3.000000</td>\n",
       "      <td>175.375000</td>\n",
       "      <td>79.95000</td>\n",
       "      <td>83.460996</td>\n",
       "      <td>6.689581</td>\n",
       "      <td>42.000000</td>\n",
       "      <td>30.000000</td>\n",
       "      <td>1.000000</td>\n",
       "      <td>33.000000</td>\n",
       "      <td>0.000000</td>\n",
       "      <td>0.000000</td>\n",
       "      <td>0.000000</td>\n",
       "      <td>0.000000</td>\n",
       "      <td>2.000000</td>\n",
       "      <td>0.000000</td>\n",
       "      <td>0.000000</td>\n",
       "      <td>0.000000</td>\n",
       "      <td>0.000000</td>\n",
       "      <td>0.000000</td>\n",
       "      <td>2.000000</td>\n",
       "      <td>0.000000</td>\n",
       "      <td>0.000000</td>\n",
       "      <td>0.000000</td>\n",
       "      <td>1.000000</td>\n",
       "      <td>3.000000</td>\n",
       "      <td>4.000000</td>\n",
       "      <td>4.000000</td>\n",
       "      <td>2.000000</td>\n",
       "      <td>1.000000</td>\n",
       "      <td>0.000000</td>\n",
       "      <td>0.000000</td>\n",
       "      <td>0.000000</td>\n",
       "      <td>0.000000</td>\n",
       "      <td>0.000000</td>\n",
       "      <td>2.000000</td>\n",
       "      <td>2.000000</td>\n",
       "      <td>0.000000</td>\n",
       "      <td>0.000000</td>\n",
       "      <td>1.000000</td>\n",
       "      <td>2.000000</td>\n",
       "      <td>2.000000</td>\n",
       "      <td>5.00000</td>\n",
       "      <td>245.000000</td>\n",
       "      <td>0.000000</td>\n",
       "      <td>2.241699</td>\n",
       "      <td>1.867676</td>\n",
       "      <td>1.154785</td>\n",
       "      <td>0.571899</td>\n",
       "      <td>0.443787</td>\n",
       "      <td>0.621948</td>\n",
       "    </tr>\n",
       "    <tr>\n",
       "      <th>max</th>\n",
       "      <td>25061.000000</td>\n",
       "      <td>1.000000</td>\n",
       "      <td>1.000000</td>\n",
       "      <td>92.000000</td>\n",
       "      <td>12.000000</td>\n",
       "      <td>31.000000</td>\n",
       "      <td>229.000000</td>\n",
       "      <td>130.000000</td>\n",
       "      <td>1.000000</td>\n",
       "      <td>74.000000</td>\n",
       "      <td>1.000000</td>\n",
       "      <td>22.000000</td>\n",
       "      <td>8.000000</td>\n",
       "      <td>17.000000</td>\n",
       "      <td>5.000000</td>\n",
       "      <td>198.093750</td>\n",
       "      <td>169.19000</td>\n",
       "      <td>136.531303</td>\n",
       "      <td>48.538386</td>\n",
       "      <td>56.000000</td>\n",
       "      <td>80.000000</td>\n",
       "      <td>50.000000</td>\n",
       "      <td>64.000000</td>\n",
       "      <td>1.000000</td>\n",
       "      <td>1.000000</td>\n",
       "      <td>1.000000</td>\n",
       "      <td>1.000000</td>\n",
       "      <td>2.000000</td>\n",
       "      <td>1.000000</td>\n",
       "      <td>1.000000</td>\n",
       "      <td>1.000000</td>\n",
       "      <td>1.000000</td>\n",
       "      <td>1.000000</td>\n",
       "      <td>2.000000</td>\n",
       "      <td>1.000000</td>\n",
       "      <td>1.000000</td>\n",
       "      <td>1.000000</td>\n",
       "      <td>2.000000</td>\n",
       "      <td>5.000000</td>\n",
       "      <td>4.000000</td>\n",
       "      <td>48.000000</td>\n",
       "      <td>2.000000</td>\n",
       "      <td>1.000000</td>\n",
       "      <td>1.000000</td>\n",
       "      <td>1.000000</td>\n",
       "      <td>1.000000</td>\n",
       "      <td>1.000000</td>\n",
       "      <td>1.000000</td>\n",
       "      <td>2.000000</td>\n",
       "      <td>2.000000</td>\n",
       "      <td>1.000000</td>\n",
       "      <td>1.000000</td>\n",
       "      <td>2.000000</td>\n",
       "      <td>2.000000</td>\n",
       "      <td>2.000000</td>\n",
       "      <td>15.00000</td>\n",
       "      <td>416.000000</td>\n",
       "      <td>1.000000</td>\n",
       "      <td>2.692871</td>\n",
       "      <td>2.103027</td>\n",
       "      <td>1.522461</td>\n",
       "      <td>0.747925</td>\n",
       "      <td>0.612061</td>\n",
       "      <td>0.884399</td>\n",
       "    </tr>\n",
       "  </tbody>\n",
       "</table>\n",
       "</div>"
      ],
      "text/plain": [
       "               seqn         qsmk        death       yrdth       modth  \\\n",
       "count   1629.000000  1629.000000  1629.000000  318.000000  322.000000   \n",
       "mean   16552.364641     0.262738     0.195212   87.569182    6.257764   \n",
       "std     7498.918195     0.440256     0.396485    2.659415    3.615304   \n",
       "min      233.000000     0.000000     0.000000   83.000000    1.000000   \n",
       "25%    10607.000000     0.000000     0.000000   85.000000    3.000000   \n",
       "50%    20333.000000     0.000000     0.000000   88.000000    6.000000   \n",
       "75%    22719.000000     1.000000     0.000000   90.000000   10.000000   \n",
       "max    25061.000000     1.000000     1.000000   92.000000   12.000000   \n",
       "\n",
       "            dadth          sbp          dbp          sex          age  \\\n",
       "count  322.000000  1552.000000  1548.000000  1629.000000  1629.000000   \n",
       "mean    15.872671   128.709407    77.744832     0.509515    43.915285   \n",
       "std      8.905488    19.051560    10.634864     0.500063    12.170430   \n",
       "min      1.000000    87.000000    47.000000     0.000000    25.000000   \n",
       "25%      8.000000   116.000000    70.000000     0.000000    33.000000   \n",
       "50%     15.500000   126.000000    77.000000     1.000000    44.000000   \n",
       "75%     24.000000   140.000000    85.000000     1.000000    53.000000   \n",
       "max     31.000000   229.000000   130.000000     1.000000    74.000000   \n",
       "\n",
       "              race       income      marital       school    education  \\\n",
       "count  1629.000000  1567.000000  1629.000000  1629.000000  1629.000000   \n",
       "mean      0.131983    17.947671     2.503376    11.135052     2.703499   \n",
       "std       0.338576     2.663277     1.082367     3.089601     1.190098   \n",
       "min       0.000000    11.000000     2.000000     0.000000     1.000000   \n",
       "25%       0.000000    17.000000     2.000000    10.000000     2.000000   \n",
       "50%       0.000000    19.000000     2.000000    12.000000     3.000000   \n",
       "75%       0.000000    20.000000     2.000000    12.000000     3.000000   \n",
       "max       1.000000    22.000000     8.000000    17.000000     5.000000   \n",
       "\n",
       "                ht        wt71         wt82      wt82_71   birthplace  \\\n",
       "count  1629.000000  1629.00000  1566.000000  1566.000000  1537.000000   \n",
       "mean    168.740965    71.05213    73.469219     2.638300    31.595316   \n",
       "std       9.053131    15.72959    16.158047     7.879913    14.500500   \n",
       "min     142.875000    36.17000    35.380205   -41.280470     1.000000   \n",
       "25%     161.781250    59.65000    61.688562    -1.478399    22.000000   \n",
       "50%     168.281250    69.40000    72.121187     2.603811    34.000000   \n",
       "75%     175.375000    79.95000    83.460996     6.689581    42.000000   \n",
       "max     198.093750   169.19000   136.531303    48.538386    56.000000   \n",
       "\n",
       "       smokeintensity  smkintensity82_71     smokeyrs       asthma  \\\n",
       "count     1629.000000        1629.000000  1629.000000  1629.000000   \n",
       "mean        20.551258          -4.737876    24.871087     0.048496   \n",
       "std         11.803754          13.741360    12.198072     0.214878   \n",
       "min          1.000000         -80.000000     1.000000     0.000000   \n",
       "25%         10.000000         -10.000000    15.000000     0.000000   \n",
       "50%         20.000000          -1.000000    24.000000     0.000000   \n",
       "75%         30.000000           1.000000    33.000000     0.000000   \n",
       "max         80.000000          50.000000    64.000000     1.000000   \n",
       "\n",
       "            bronch           tb           hf          hbp  pepticulcer  \\\n",
       "count  1629.000000  1629.000000  1629.000000  1629.000000  1629.000000   \n",
       "mean      0.085328     0.014119     0.004911     1.050952     0.103745   \n",
       "std       0.279456     0.118018     0.069928     0.958209     0.305023   \n",
       "min       0.000000     0.000000     0.000000     0.000000     0.000000   \n",
       "25%       0.000000     0.000000     0.000000     0.000000     0.000000   \n",
       "50%       0.000000     0.000000     0.000000     1.000000     0.000000   \n",
       "75%       0.000000     0.000000     0.000000     2.000000     0.000000   \n",
       "max       1.000000     1.000000     1.000000     2.000000     1.000000   \n",
       "\n",
       "           colitis    hepatitis  chroniccough     hayfever     diabetes  \\\n",
       "count  1629.000000  1629.000000   1629.000000  1629.000000  1629.000000   \n",
       "mean      0.033763     0.017188      0.054021     0.089626     0.979742   \n",
       "std       0.180674     0.130013      0.226128     0.285732     0.995793   \n",
       "min       0.000000     0.000000      0.000000     0.000000     0.000000   \n",
       "25%       0.000000     0.000000      0.000000     0.000000     0.000000   \n",
       "50%       0.000000     0.000000      0.000000     0.000000     0.000000   \n",
       "75%       0.000000     0.000000      0.000000     0.000000     2.000000   \n",
       "max       1.000000     1.000000      1.000000     1.000000     2.000000   \n",
       "\n",
       "             polio        tumor  nervousbreak    alcoholpy  alcoholfreq  \\\n",
       "count  1629.000000  1629.000000   1629.000000  1629.000000  1629.000000   \n",
       "mean      0.014119     0.023327      0.028852     0.875998     1.920196   \n",
       "std       0.118018     0.150987      0.167442     0.338873     1.307140   \n",
       "min       0.000000     0.000000      0.000000     0.000000     0.000000   \n",
       "25%       0.000000     0.000000      0.000000     1.000000     1.000000   \n",
       "50%       0.000000     0.000000      0.000000     1.000000     2.000000   \n",
       "75%       0.000000     0.000000      0.000000     1.000000     3.000000   \n",
       "max       1.000000     1.000000      1.000000     2.000000     5.000000   \n",
       "\n",
       "       alcoholtype  alcoholhowmuch         pica     headache    otherpain  \\\n",
       "count  1629.000000     1212.000000  1629.000000  1629.000000  1629.000000   \n",
       "mean      2.475752        3.287129     0.975445     0.629834     0.246163   \n",
       "std       1.208155        2.984695     0.997853     0.482997     0.430907   \n",
       "min       1.000000        1.000000     0.000000     0.000000     0.000000   \n",
       "25%       1.000000        2.000000     0.000000     0.000000     0.000000   \n",
       "50%       3.000000        2.000000     0.000000     1.000000     0.000000   \n",
       "75%       4.000000        4.000000     2.000000     1.000000     0.000000   \n",
       "max       4.000000       48.000000     2.000000     1.000000     1.000000   \n",
       "\n",
       "         weakheart    allergies       nerves      lackpep       hbpmed  \\\n",
       "count  1629.000000  1629.000000  1629.000000  1629.000000  1629.000000   \n",
       "mean      0.022099     0.062001     0.144260     0.050952     1.005525   \n",
       "std       0.147052     0.241232     0.351461     0.219966     0.982947   \n",
       "min       0.000000     0.000000     0.000000     0.000000     0.000000   \n",
       "25%       0.000000     0.000000     0.000000     0.000000     0.000000   \n",
       "50%       0.000000     0.000000     0.000000     0.000000     1.000000   \n",
       "75%       0.000000     0.000000     0.000000     0.000000     2.000000   \n",
       "max       1.000000     1.000000     1.000000     1.000000     2.000000   \n",
       "\n",
       "       boweltrouble       wtloss    infection       active     exercise  \\\n",
       "count   1629.000000  1629.000000  1629.000000  1629.000000  1629.000000   \n",
       "mean       1.034991     0.025783     0.147944     0.651934     1.195212   \n",
       "std        0.967216     0.158535     0.355153     0.652742     0.739348   \n",
       "min        0.000000     0.000000     0.000000     0.000000     0.000000   \n",
       "25%        0.000000     0.000000     0.000000     0.000000     1.000000   \n",
       "50%        1.000000     0.000000     0.000000     1.000000     1.000000   \n",
       "75%        2.000000     0.000000     0.000000     1.000000     2.000000   \n",
       "max        2.000000     1.000000     1.000000     2.000000     2.000000   \n",
       "\n",
       "       birthcontrol  pregnancies  cholesterol    hightax82      price71  \\\n",
       "count   1629.000000    726.00000  1613.000000  1537.000000  1537.000000   \n",
       "mean       1.084715      3.69146   219.973962     0.165908     2.138750   \n",
       "std        0.947747      2.20560    45.444202     0.372119     0.229016   \n",
       "min        0.000000      1.00000    78.000000     0.000000     1.506592   \n",
       "25%        0.000000      2.00000   189.000000     0.000000     2.036621   \n",
       "50%        1.000000      3.00000   216.000000     0.000000     2.167969   \n",
       "75%        2.000000      5.00000   245.000000     0.000000     2.241699   \n",
       "max        2.000000     15.00000   416.000000     1.000000     2.692871   \n",
       "\n",
       "           price82        tax71        tax82   price71_82     tax71_82  \n",
       "count  1537.000000  1537.000000  1537.000000  1537.000000  1537.000000  \n",
       "mean      1.806095     1.058581     0.505983     0.332741     0.552614  \n",
       "std       0.130641     0.216229     0.111894     0.155045     0.150321  \n",
       "min       1.451904     0.524902     0.219971    -0.202698     0.035995  \n",
       "25%       1.739990     0.944946     0.439941     0.200989     0.460999  \n",
       "50%       1.814941     1.049805     0.505981     0.335999     0.543945  \n",
       "75%       1.867676     1.154785     0.571899     0.443787     0.621948  \n",
       "max       2.103027     1.522461     0.747925     0.612061     0.884399  "
      ]
     },
     "execution_count": 10,
     "metadata": {},
     "output_type": "execute_result"
    }
   ],
   "source": [
    "data.describe()"
   ]
  },
  {
   "cell_type": "code",
   "execution_count": 11,
   "metadata": {
    "slideshow": {
     "slide_type": "subslide"
    }
   },
   "outputs": [
    {
     "data": {
      "text/plain": [
       "seqn                    0\n",
       "qsmk                    0\n",
       "death                   0\n",
       "yrdth                1311\n",
       "modth                1307\n",
       "dadth                1307\n",
       "sbp                    77\n",
       "dbp                    81\n",
       "sex                     0\n",
       "age                     0\n",
       "race                    0\n",
       "income                 62\n",
       "marital                 0\n",
       "school                  0\n",
       "education               0\n",
       "ht                      0\n",
       "wt71                    0\n",
       "wt82                   63\n",
       "wt82_71                63\n",
       "birthplace             92\n",
       "smokeintensity          0\n",
       "smkintensity82_71       0\n",
       "smokeyrs                0\n",
       "asthma                  0\n",
       "bronch                  0\n",
       "tb                      0\n",
       "hf                      0\n",
       "hbp                     0\n",
       "pepticulcer             0\n",
       "colitis                 0\n",
       "hepatitis               0\n",
       "chroniccough            0\n",
       "hayfever                0\n",
       "diabetes                0\n",
       "polio                   0\n",
       "tumor                   0\n",
       "nervousbreak            0\n",
       "alcoholpy               0\n",
       "alcoholfreq             0\n",
       "alcoholtype             0\n",
       "alcoholhowmuch        417\n",
       "pica                    0\n",
       "headache                0\n",
       "otherpain               0\n",
       "weakheart               0\n",
       "allergies               0\n",
       "nerves                  0\n",
       "lackpep                 0\n",
       "hbpmed                  0\n",
       "boweltrouble            0\n",
       "wtloss                  0\n",
       "infection               0\n",
       "active                  0\n",
       "exercise                0\n",
       "birthcontrol            0\n",
       "pregnancies           903\n",
       "cholesterol            16\n",
       "hightax82              92\n",
       "price71                92\n",
       "price82                92\n",
       "tax71                  92\n",
       "tax82                  92\n",
       "price71_82             92\n",
       "tax71_82               92\n",
       "dtype: int64"
      ]
     },
     "execution_count": 11,
     "metadata": {},
     "output_type": "execute_result"
    }
   ],
   "source": [
    "data.isnull().sum()"
   ]
  },
  {
   "cell_type": "markdown",
   "metadata": {
    "slideshow": {
     "slide_type": "slide"
    }
   },
   "source": [
    "### Assumption\n",
    "\n",
    "We're going to remove people who haven't survived until the end of the experiment in 1982. We can check this fact testing if the field called 'wt82' has some value. It stands for the weight measured at 1982."
   ]
  },
  {
   "cell_type": "code",
   "execution_count": 12,
   "metadata": {
    "slideshow": {
     "slide_type": "subslide"
    }
   },
   "outputs": [
    {
     "data": {
      "text/plain": [
       "(1566, 64)"
      ]
     },
     "execution_count": 12,
     "metadata": {},
     "output_type": "execute_result"
    }
   ],
   "source": [
    "data = data.dropna(subset=['wt82'])\n",
    "data.shape"
   ]
  },
  {
   "cell_type": "markdown",
   "metadata": {
    "slideshow": {
     "slide_type": "slide"
    }
   },
   "source": [
    "### Covariates, Treatment and Outcome variables"
   ]
  },
  {
   "cell_type": "markdown",
   "metadata": {
    "slideshow": {
     "slide_type": "subslide"
    }
   },
   "source": [
    "From https://cdn1.sph.harvard.edu/wp-content/uploads/sites/1268/1268/20/hernanrobins_v2.17.21.pdf <br><br>\n",
    "Our goal is to estimate the average causal effect of smoking cessation (the treatment) A on weight gain (the outcome) Y.  To do so, we will use data from 1566 cigarette smokers aged 25-74 years who, as part of the NHEFS, had a baseline visit and a follow-up visit about 10 years later."
   ]
  },
  {
   "cell_type": "markdown",
   "metadata": {
    "slideshow": {
     "slide_type": "subslide"
    }
   },
   "source": [
    "* The <b>treatment</b> variable (<b>A</b>) is `qsmk` (quit smoking). Individuals were classified as treated A=1 if they reported having quit smoking before the follow-up visit, and as untreated A=0 otherwise."
   ]
  },
  {
   "cell_type": "code",
   "execution_count": 13,
   "metadata": {
    "slideshow": {
     "slide_type": "fragment"
    }
   },
   "outputs": [
    {
     "data": {
      "text/plain": [
       "1     403\n",
       "0    1163\n",
       "Name: qsmk, dtype: int64"
      ]
     },
     "execution_count": 13,
     "metadata": {},
     "output_type": "execute_result"
    }
   ],
   "source": [
    "data['qsmk'].value_counts(ascending=True)"
   ]
  },
  {
   "cell_type": "code",
   "execution_count": 14,
   "metadata": {
    "slideshow": {
     "slide_type": "fragment"
    }
   },
   "outputs": [
    {
     "data": {
      "text/plain": [
       "0    0.742656\n",
       "1    0.257344\n",
       "Name: qsmk, dtype: float64"
      ]
     },
     "execution_count": 14,
     "metadata": {},
     "output_type": "execute_result"
    }
   ],
   "source": [
    "data.qsmk.value_counts(normalize=True)"
   ]
  },
  {
   "cell_type": "code",
   "execution_count": 15,
   "metadata": {
    "slideshow": {
     "slide_type": "fragment"
    }
   },
   "outputs": [],
   "source": [
    "A = data['qsmk']"
   ]
  },
  {
   "cell_type": "markdown",
   "metadata": {
    "slideshow": {
     "slide_type": "subslide"
    }
   },
   "source": [
    "* The <b>outcome</b> variable (<b>Y</b>) is `wt82_71` (the individual's body weight at the follow-up visit in 1982 minus the individual's body weight at the baseline visit in 1971). "
   ]
  },
  {
   "cell_type": "code",
   "execution_count": 16,
   "metadata": {
    "slideshow": {
     "slide_type": "subslide"
    }
   },
   "outputs": [
    {
     "data": {
      "text/plain": [
       " 3.057111     3\n",
       "-13.381335    2\n",
       " 5.445556     2\n",
       "-1.020851     2\n",
       " 0.002932     2\n",
       " 4.080894     2\n",
       " 1.131187     2\n",
       " 5.215747     2\n",
       "-1.252112     2\n",
       " 2.834105     2\n",
       " 7.256333     2\n",
       "-3.176877     2\n",
       " 2.384486     2\n",
       " 2.947008     2\n",
       " 1.362932     2\n",
       " 3.512741     2\n",
       "-5.443667     2\n",
       " 4.989530     2\n",
       " 1.020703     2\n",
       "-0.117450     2\n",
       "-0.451145     2\n",
       " 6.348078     2\n",
       " 8.962932     2\n",
       " 6.232155     2\n",
       " 7.596333     2\n",
       "-2.270265     2\n",
       "-1.585221     2\n",
       " 9.295366     2\n",
       "-4.085807     2\n",
       " 7.595161     2\n",
       "-0.113183     2\n",
       "-2.378916     2\n",
       " 6.805072     2\n",
       "-0.568138     2\n",
       "-3.966775     2\n",
       "-2.490851     2\n",
       " 0.227008     2\n",
       " 5.098855     2\n",
       " 0.908856     2\n",
       "-1.929297     2\n",
       " 0.225072     2\n",
       " 4.532932     2\n",
       " 0.798078     2\n",
       " 2.836231     2\n",
       " 4.539823     2\n",
       "-7.145221     2\n",
       " 4.650410     2\n",
       " 0.909149     2\n",
       " 3.514970     2\n",
       "-1.591819     2\n",
       " 0.910703     2\n",
       " 5.101964     2\n",
       " 13.044779    2\n",
       " 3.745454     2\n",
       " 3.061378     2\n",
       " 10.996054    1\n",
       "-2.040177     1\n",
       " 29.252066    1\n",
       " 4.538283     1\n",
       " 3.290703     1\n",
       "-10.093960    1\n",
       " 6.914016     1\n",
       " 13.943137    1\n",
       " 3.057785     1\n",
       " 11.116729    1\n",
       "-4.191321     1\n",
       "-4.425132     1\n",
       " 3.855747     1\n",
       "-10.657068    1\n",
       " 4.304882     1\n",
       "-7.255221     1\n",
       " 12.591671    1\n",
       " 0.568562     1\n",
       "-1.360470     1\n",
       " 2.718856     1\n",
       "-6.572992     1\n",
       "-8.048520     1\n",
       " 2.039442     1\n",
       " 19.391303    1\n",
       "-2.610177     1\n",
       "-1.362992     1\n",
       " 1.470894     1\n",
       "-0.001438     1\n",
       "-11.000954    1\n",
       "-5.557450     1\n",
       " 15.985468    1\n",
       " 15.310512    1\n",
       " 7.712741     1\n",
       "-6.348813     1\n",
       " 23.138078    1\n",
       "-4.874253     1\n",
       " 10.202448    1\n",
       " 9.753518     1\n",
       " 0.682639     1\n",
       " 4.080600     1\n",
       " 7.596817     1\n",
       " 6.236524     1\n",
       " 3.292932     1\n",
       " 14.969149    1\n",
       "-1.251438     1\n",
       "-25.970558    1\n",
       "-7.027068     1\n",
       " 12.817697    1\n",
       " 10.661289    1\n",
       " 0.230996     1\n",
       "-1.932112     1\n",
       "-0.678432     1\n",
       " 6.124105     1\n",
       "-0.458329     1\n",
       "-1.131628     1\n",
       "-7.939986     1\n",
       " 3.858856     1\n",
       "-3.406100     1\n",
       "-1.809883     1\n",
       "-10.319297    1\n",
       " 11.907799    1\n",
       " 2.830894     1\n",
       " 0.338855     1\n",
       " 4.418856     1\n",
       "-4.418622     1\n",
       " 9.978181     1\n",
       " 16.671964    1\n",
       "-9.415030     1\n",
       " 5.333518     1\n",
       " 5.103327     1\n",
       " 1.138562     1\n",
       " 4.645366     1\n",
       " 4.535454     1\n",
       "-10.995132    1\n",
       "-0.229781     1\n",
       "-4.312685     1\n",
       " 5.214677     1\n",
       " 8.842448     1\n",
       "-6.573183     1\n",
       " 4.653709     1\n",
       " 7.367785     1\n",
       "-7.253285     1\n",
       " 2.041671     1\n",
       "-3.971922     1\n",
       " 1.924105     1\n",
       " 8.620894     1\n",
       " 6.124398     1\n",
       " 5.672741     1\n",
       " 8.047697     1\n",
       "-0.564546     1\n",
       " 11.228372    1\n",
       " 10.201378    1\n",
       " 10.206524    1\n",
       "-0.456673     1\n",
       "-5.101056     1\n",
       " 11.344779    1\n",
       "-7.483476     1\n",
       " 2.722741     1\n",
       " 5.668958     1\n",
       " 11.003811    1\n",
       "-3.965221     1\n",
       " 4.420600     1\n",
       " 1.478958     1\n",
       " 0.568474     1\n",
       " 3.174970     1\n",
       " 14.291187    1\n",
       " 0.342257     1\n",
       " 6.009046     1\n",
       "-13.379883    1\n",
       " 2.832155     1\n",
       " 10.209633    1\n",
       " 16.553430    1\n",
       "-2.724546     1\n",
       " 2.271378     1\n",
       "-1.021717     1\n",
       " 36.969251    1\n",
       " 9.640600     1\n",
       " 7.375747     1\n",
       " 4.654002     1\n",
       " 6.917506     1\n",
       " 13.490321    1\n",
       " 12.812257    1\n",
       " 14.738870    1\n",
       " 0.791480     1\n",
       "-4.648227     1\n",
       "-4.649693     1\n",
       "-2.039400     1\n",
       " 1.812155     1\n",
       " 1.816817     1\n",
       " 8.849735     1\n",
       " 6.572448     1\n",
       "-3.286584     1\n",
       "-1.136775     1\n",
       " 8.051671     1\n",
       "-12.585807    1\n",
       " 7.139339     1\n",
       " 5.551773     1\n",
       "-3.405412     1\n",
       "-6.921628     1\n",
       "-2.725323     1\n",
       " 4.537594     1\n",
       "-6.235030     1\n",
       " 12.023225    1\n",
       " 3.856627     1\n",
       " 7.026040     1\n",
       " 6.232360     1\n",
       "-3.177068     1\n",
       " 2.268269     1\n",
       " 1.816524     1\n",
       " 0.902639     1\n",
       " 6.577301     1\n",
       " 5.329149     1\n",
       " 6.468269     1\n",
       " 1.136231     1\n",
       " 6.008856     1\n",
       " 10.314588    1\n",
       "-3.631922     1\n",
       " 10.542257    1\n",
       " 3.854779     1\n",
       " 1.811582     1\n",
       " 11.117111    1\n",
       " 20.526538    1\n",
       " 5.441862     1\n",
       " 0.453606     1\n",
       " 4.310117     1\n",
       " 6.460996     1\n",
       " 6.689823     1\n",
       " 0.452345     1\n",
       " 16.898474    1\n",
       " 3.633225     1\n",
       "-0.795910     1\n",
       " 1.697976     1\n",
       "-0.789106     1\n",
       "-2.491144     1\n",
       " 4.766715     1\n",
       "-7.367361     1\n",
       "-1.472406     1\n",
       " 3.514295     1\n",
       "-5.674062     1\n",
       "-0.683769     1\n",
       "-0.682112     1\n",
       " 2.495938     1\n",
       " 10.315263    1\n",
       " 3.406040     1\n",
       "-17.807743    1\n",
       "-1.364546     1\n",
       "-2.038916     1\n",
       "-4.532215     1\n",
       "-1.586877     1\n",
       "-8.508622     1\n",
       " 2.272932     1\n",
       "-9.867068     1\n",
       " 3.518372     1\n",
       " 4.312932     1\n",
       " 5.212448     1\n",
       " 2.036627     1\n",
       "-7.825998     1\n",
       " 13.607888    1\n",
       " 8.054779     1\n",
       " 13.267888    1\n",
       " 6.351084     1\n",
       " 1.356715     1\n",
       " 4.191671     1\n",
       " 2.830996     1\n",
       "-0.795412     1\n",
       "-1.819195     1\n",
       "-7.029679     1\n",
       "-0.223667     1\n",
       " 9.070512     1\n",
       "-7.598227     1\n",
       " 12.136040    1\n",
       " 7.148181     1\n",
       " 9.071773     1\n",
       " 3.852932     1\n",
       " 1.588474     1\n",
       " 10.657404    1\n",
       " 9.302066     1\n",
       " 1.362155     1\n",
       "-0.227259     1\n",
       " 9.296040     1\n",
       " 0.230703     1\n",
       "-3.968329     1\n",
       "-14.284444    1\n",
       "-5.217361     1\n",
       " 16.106436    1\n",
       " 5.326627     1\n",
       " 1.246715     1\n",
       " 12.931099    1\n",
       "-4.871335     1\n",
       "-7.826100     1\n",
       " 5.329530     1\n",
       " 5.331480     1\n",
       " 0.449442     1\n",
       " 12.817404    1\n",
       " 13.720219    1\n",
       " 9.076333     1\n",
       " 10.091671    1\n",
       "-5.325998     1\n",
       "-14.398813    1\n",
       " 1.584486     1\n",
       "-3.968138     1\n",
       "-10.769693    1\n",
       "-3.062508     1\n",
       " 18.827301    1\n",
       " 2.950014     1\n",
       "-2.272215     1\n",
       " 2.493900     1\n",
       " 5.219149     1\n",
       " 5.781084     1\n",
       " 3.853811     1\n",
       " 3.172741     1\n",
       " 5.441582     1\n",
       " 1.136524     1\n",
       " 10.432741    1\n",
       " 8.047404     1\n",
       "-5.670074     1\n",
       " 1.589046     1\n",
       " 14.511773    1\n",
       " 4.652448     1\n",
       " 4.762550     1\n",
       " 7.828576     1\n",
       " 3.289046     1\n",
       " 1.133900     1\n",
       " 0.117111     1\n",
       "-3.858711     1\n",
       " 2.156333     1\n",
       "-2.947259     1\n",
       "-14.855705    1\n",
       "-0.000661     1\n",
       " 3.510894     1\n",
       " 9.524105     1\n",
       "-0.906775     1\n",
       "-7.369883     1\n",
       " 10.660703    1\n",
       "-0.116966     1\n",
       "-1.249590     1\n",
       " 7.594779     1\n",
       " 0.222360     1\n",
       "-1.704928     1\n",
       "-9.638036     1\n",
       " 0.564486     1\n",
       " 5.218372     1\n",
       " 4.760894     1\n",
       "-11.221922    1\n",
       " 1.591862     1\n",
       "-7.256100     1\n",
       "-2.831438     1\n",
       " 2.831378     1\n",
       " 0.109339     1\n",
       " 1.130307     1\n",
       "-14.515323    1\n",
       " 7.032345     1\n",
       " 3.859530     1\n",
       " 6.233225     1\n",
       " 2.612932     1\n",
       "-4.191335     1\n",
       " 20.188181    1\n",
       " 10.550703    1\n",
       " 10.774002    1\n",
       "-2.951628     1\n",
       "-6.916775     1\n",
       "-16.780954    1\n",
       "-6.007450     1\n",
       " 2.726524     1\n",
       "-8.613183     1\n",
       " 4.653606     1\n",
       " 11.680321    1\n",
       "-15.192201    1\n",
       " 3.850703     1\n",
       " 3.058269     1\n",
       " 0.908665     1\n",
       " 14.516817    1\n",
       " 32.774603    1\n",
       "-0.109209     1\n",
       " 5.784779     1\n",
       " 3.064970     1\n",
       " 1.243123     1\n",
       " 22.336729    1\n",
       " 11.003239    1\n",
       " 10.656627    1\n",
       " 7.706729     1\n",
       " 11.340512    1\n",
       "-10.549400    1\n",
       "-1.360954     1\n",
       " 1.129823     1\n",
       "-1.924151     1\n",
       " 10.998665    1\n",
       " 0.004970     1\n",
       " 2.950512     1\n",
       " 2.489823     1\n",
       " 6.241378     1\n",
       " 20.975366    1\n",
       "-13.835616    1\n",
       " 5.667785     1\n",
       " 6.688855     1\n",
       " 0.455263     1\n",
       " 5.441378     1\n",
       "-3.626100     1\n",
       "-2.386291     1\n",
       " 3.289530     1\n",
       " 3.291862     1\n",
       "-10.208227    1\n",
       " 4.539735     1\n",
       " 4.993225     1\n",
       " 2.038753     1\n",
       " 7.262550     1\n",
       "-7.824546     1\n",
       "-2.262992     1\n",
       " 3.968856     1\n",
       " 4.421964     1\n",
       " 6.014677     1\n",
       " 2.495366     1\n",
       " 3.973137     1\n",
       " 22.221876    1\n",
       " 21.432448    1\n",
       " 1.701862     1\n",
       " 7.257594     1\n",
       " 5.900894     1\n",
       "-13.952508    1\n",
       " 6.800600     1\n",
       " 20.983137    1\n",
       " 3.623900     1\n",
       " 3.629735     1\n",
       " 8.509442     1\n",
       " 2.613123     1\n",
       " 11.116817    1\n",
       " 13.044588    1\n",
       " 8.962155     1\n",
       "-8.842699     1\n",
       " 6.695175     1\n",
       " 12.817111    1\n",
       "-0.911438     1\n",
       " 7.139633     1\n",
       "-8.056100     1\n",
       "-9.188622     1\n",
       " 6.351671     1\n",
       "-15.085118    1\n",
       " 17.237697    1\n",
       " 7.032843     1\n",
       "-0.114546     1\n",
       " 7.029823     1\n",
       " 0.116627     1\n",
       " 4.200512     1\n",
       "-30.050074    1\n",
       " 4.648562     1\n",
       "-4.989297     1\n",
       "-2.834253     1\n",
       " 9.982066     1\n",
       "-1.247068     1\n",
       "-13.490749    1\n",
       " 3.405938     1\n",
       "-13.491145    1\n",
       " 7.939046     1\n",
       " 12.698767    1\n",
       " 6.012155     1\n",
       " 0.231480     1\n",
       " 4.652550     1\n",
       " 4.078181     1\n",
       "-5.896379     1\n",
       "-8.613373     1\n",
       " 4.759442     1\n",
       " 2.832741     1\n",
       " 2.725072     1\n",
       " 7.822448     1\n",
       "-2.383080     1\n",
       " 5.557199     1\n",
       " 7.366436     1\n",
       " 2.041978     1\n",
       " 3.738078     1\n",
       " 3.290600     1\n",
       "-1.249297     1\n",
       " 19.953914    1\n",
       " 3.058078     1\n",
       "-10.089209    1\n",
       " 10.435747    1\n",
       " 6.005570     1\n",
       "-7.599590     1\n",
       " 11.113811    1\n",
       "-8.848241     1\n",
       "-2.041438     1\n",
       "-3.965616     1\n",
       " 6.120894     1\n",
       " 3.741378     1\n",
       " 3.739823     1\n",
       " 8.392448     1\n",
       "-2.268124     1\n",
       "-16.673769    1\n",
       "-1.358036     1\n",
       " 3.175659     1\n",
       " 2.718562     1\n",
       " 1.136817     1\n",
       "-1.705221     1\n",
       " 10.096627    1\n",
       " 8.280703     1\n",
       " 2.604295     1\n",
       " 2.832257     1\n",
       " 14.066143    1\n",
       " 10.771773    1\n",
       "-12.243080    1\n",
       "-12.469986    1\n",
       " 1.022741     1\n",
       " 4.762169     1\n",
       "-0.680954     1\n",
       " 3.628474     1\n",
       " 0.450117     1\n",
       "-7.824928     1\n",
       " 8.053709     1\n",
       " 4.989823     1\n",
       " 12.809823    1\n",
       " 0.117785     1\n",
       " 8.506817     1\n",
       " 8.280117     1\n",
       " 3.064486     1\n",
       " 10.890894    1\n",
       "-0.677450     1\n",
       " 2.836143     1\n",
       " 25.178474    1\n",
       " 8.840321     1\n",
       " 9.643709     1\n",
       "-17.801042    1\n",
       " 4.424486     1\n",
       " 2.606627     1\n",
       " 19.732155    1\n",
       " 15.765570    1\n",
       "-5.444444     1\n",
       " 14.738181    1\n",
       " 13.270117    1\n",
       "-21.095221    1\n",
       " 4.762639     1\n",
       " 1.360117     1\n",
       " 8.500028     1\n",
       " 2.159046     1\n",
       "-2.949209     1\n",
       "-0.004355     1\n",
       " 0.905263     1\n",
       " 5.897301     1\n",
       " 4.085938     1\n",
       " 4.195263     1\n",
       "-1.131731     1\n",
       " 3.742448     1\n",
       "-1.701233     1\n",
       " 8.500117     1\n",
       " 3.170307     1\n",
       " 2.607008     1\n",
       " 4.194486     1\n",
       " 1.358855     1\n",
       "-0.223271     1\n",
       " 3.178870     1\n",
       " 6.232448     1\n",
       " 4.418958     1\n",
       " 1.704398     1\n",
       " 3.518665     1\n",
       " 10.202741    1\n",
       " 7.366817     1\n",
       " 2.496627     1\n",
       " 9.868474     1\n",
       "-1.250661     1\n",
       "-14.519297    1\n",
       " 2.041964     1\n",
       "-2.043183     1\n",
       "-0.794839     1\n",
       " 2.157888     1\n",
       " 1.359149     1\n",
       " 4.990894     1\n",
       " 2.945747     1\n",
       "-3.285221     1\n",
       " 7.033811     1\n",
       " 14.851099    1\n",
       "-3.287068     1\n",
       " 10.888269    1\n",
       " 4.991289     1\n",
       " 8.396333     1\n",
       " 7.488562     1\n",
       " 23.024105    1\n",
       " 4.425161     1\n",
       " 0.116231     1\n",
       "-10.208520    1\n",
       " 14.631303    1\n",
       " 8.047785     1\n",
       " 0.452257     1\n",
       "-1.242699     1\n",
       " 3.177008     1\n",
       " 0.569339     1\n",
       " 32.092843    1\n",
       " 8.279149     1\n",
       "-1.925705     1\n",
       "-2.151922     1\n",
       "-2.496482     1\n",
       "-0.448916     1\n",
       " 5.780996     1\n",
       "-2.268520     1\n",
       " 2.045747     1\n",
       " 5.559442     1\n",
       "-3.633476     1\n",
       " 7.713532     1\n",
       " 3.291378     1\n",
       " 2.158078     1\n",
       "-2.269195     1\n",
       " 6.918283     1\n",
       " 1.592448     1\n",
       "-8.273373     1\n",
       " 2.377008     1\n",
       " 4.540512     1\n",
       " 6.465747     1\n",
       " 4.425747     1\n",
       " 8.280028     1\n",
       "-0.453769     1\n",
       " 2.046040     1\n",
       " 5.780307     1\n",
       "-7.373183     1\n",
       " 1.250703     1\n",
       " 28.912550    1\n",
       " 3.744105     1\n",
       " 1.133811     1\n",
       " 3.851582     1\n",
       " 13.154970    1\n",
       " 9.415175     1\n",
       " 0.002639     1\n",
       " 14.746436    1\n",
       " 0.338474     1\n",
       "-0.229004     1\n",
       " 7.146436     1\n",
       "-2.272596     1\n",
       " 6.120410     1\n",
       " 9.414295     1\n",
       " 8.279544     1\n",
       "-7.375132     1\n",
       "-4.647361     1\n",
       "-2.272112     1\n",
       " 5.559735     1\n",
       " 15.086245    1\n",
       " 8.164486     1\n",
       "-2.718622     1\n",
       "-0.223183     1\n",
       "-1.582992     1\n",
       " 12.582741    1\n",
       "-10.881922    1\n",
       "-0.116100     1\n",
       "-2.037552     1\n",
       " 9.860908     1\n",
       " 0.452843     1\n",
       " 12.586040    1\n",
       "-3.401526     1\n",
       "-4.876291     1\n",
       "-6.007068     1\n",
       "-7.034151     1\n",
       " 17.231964    1\n",
       " 3.627492     1\n",
       "-5.331144     1\n",
       " 0.339060     1\n",
       " 10.994970    1\n",
       " 1.817008     1\n",
       "-4.084737     1\n",
       " 11.684970    1\n",
       " 1.811862     1\n",
       " 2.717199     1\n",
       " 7.488372     1\n",
       "-1.478036     1\n",
       " 2.272639     1\n",
       " 10.662360    1\n",
       "-3.858329     1\n",
       " 2.151084     1\n",
       " 0.230894     1\n",
       "-1.926482     1\n",
       " 9.411964     1\n",
       " 22.910615    1\n",
       "-10.089795    1\n",
       " 6.460512     1\n",
       " 2.722639     1\n",
       " 14.856538    1\n",
       "-20.751731    1\n",
       " 14.850996    1\n",
       " 1.705556     1\n",
       "-3.065030     1\n",
       " 6.119149     1\n",
       " 2.153123     1\n",
       " 7.367594     1\n",
       "-1.365323     1\n",
       " 4.761568     1\n",
       " 5.101671     1\n",
       " 6.912550     1\n",
       " 5.216715     1\n",
       " 7.034970     1\n",
       " 4.423518     1\n",
       " 0.793811     1\n",
       " 4.994105     1\n",
       " 0.227301     1\n",
       "-10.777157    1\n",
       " 4.311187     1\n",
       " 5.328562     1\n",
       " 3.969544     1\n",
       " 8.849339     1\n",
       "-11.338036    1\n",
       "-2.494839     1\n",
       " 3.970703     1\n",
       " 1.246231     1\n",
       " 0.902550     1\n",
       " 3.402741     1\n",
       " 6.118562     1\n",
       "-1.246863     1\n",
       " 2.040410     1\n",
       " 2.272741     1\n",
       "-8.390265     1\n",
       "-0.225030     1\n",
       " 2.945849     1\n",
       " 9.297594     1\n",
       " 0.230410     1\n",
       " 14.855556    1\n",
       " 4.423123     1\n",
       " 0.340996     1\n",
       "-4.989400     1\n",
       " 10.776143    1\n",
       " 8.052741     1\n",
       " 6.578665     1\n",
       " 5.783518     1\n",
       "-4.079590     1\n",
       "-1.583080     1\n",
       " 3.969339     1\n",
       " 3.401876     1\n",
       " 0.789823     1\n",
       "-0.566394     1\n",
       " 1.587111     1\n",
       " 4.304588     1\n",
       " 8.053327     1\n",
       " 7.373811     1\n",
       " 4.765747     1\n",
       " 1.478269     1\n",
       " 5.216436     1\n",
       "-3.740763     1\n",
       " 5.446817     1\n",
       "-0.568813     1\n",
       " 4.646040     1\n",
       "-1.702406     1\n",
       " 9.184486     1\n",
       " 1.016333     1\n",
       " 20.182257    1\n",
       " 21.771685    1\n",
       " 2.610894     1\n",
       "-0.568622     1\n",
       "-3.516673     1\n",
       "-12.357259    1\n",
       " 8.732843     1\n",
       " 4.646920     1\n",
       "-0.231335     1\n",
       " 5.787594     1\n",
       " 4.419926     1\n",
       " 2.495175     1\n",
       "-0.109883     1\n",
       " 7.714588     1\n",
       "-6.012010     1\n",
       " 10.655556    1\n",
       " 0.570894     1\n",
       " 8.509149     1\n",
       " 7.597888     1\n",
       " 1.585454     1\n",
       " 2.831876     1\n",
       " 1.251480     1\n",
       " 12.251773    1\n",
       "-41.280470    1\n",
       "-0.451717     1\n",
       " 0.112932     1\n",
       " 2.036715     1\n",
       "-6.574355     1\n",
       " 13.158474    1\n",
       " 6.120219     1\n",
       " 2.491773     1\n",
       " 9.522550     1\n",
       " 3.740117     1\n",
       " 5.327697     1\n",
       " 48.538386    1\n",
       " 12.816143    1\n",
       "-1.700763     1\n",
       "-0.115221     1\n",
       " 1.359046     1\n",
       " 10.550117    1\n",
       " 2.382155     1\n",
       " 3.518181     1\n",
       "-3.742010     1\n",
       " 1.362829     1\n",
       "-22.230470    1\n",
       " 2.839251     1\n",
       " 2.499442     1\n",
       " 2.154779     1\n",
       " 0.564193     1\n",
       "-7.253476     1\n",
       " 26.305175    1\n",
       "-15.192303    1\n",
       " 7.480894     1\n",
       "-3.179883     1\n",
       "-8.505221     1\n",
       "-16.667157    1\n",
       " 8.395263     1\n",
       "-14.515030    1\n",
       "-1.699004     1\n",
       "-4.421540     1\n",
       " 3.403518     1\n",
       "-0.448697     1\n",
       " 4.079046     1\n",
       "-4.650954     1\n",
       "-1.361042     1\n",
       " 4.086231     1\n",
       "-6.237068     1\n",
       " 7.482741     1\n",
       " 47.511303    1\n",
       " 1.582639     1\n",
       "-3.745221     1\n",
       " 5.901378     1\n",
       " 10.433034    1\n",
       " 0.564779     1\n",
       " 6.578283     1\n",
       " 7.255849     1\n",
       " 7.827404     1\n",
       " 6.119251     1\n",
       "-0.796584     1\n",
       " 22.455277    1\n",
       "-0.905221     1\n",
       "-5.217259     1\n",
       " 3.853518     1\n",
       "-6.578520     1\n",
       "-6.353476     1\n",
       " 1.924970     1\n",
       " 4.083225     1\n",
       " 2.265161     1\n",
       " 16.666436    1\n",
       " 7.143518     1\n",
       "-10.776877    1\n",
       " 1.356817     1\n",
       " 12.359060    1\n",
       "-2.156482     1\n",
       "-9.301247     1\n",
       " 34.017799    1\n",
       "-5.438138     1\n",
       "-2.490558     1\n",
       "-2.151247     1\n",
       "-14.289883    1\n",
       " 3.406920     1\n",
       " 4.761392     1\n",
       " 0.566817     1\n",
       "-24.269004    1\n",
       "-2.608622     1\n",
       " 12.925072    1\n",
       " 2.385747     1\n",
       "-3.293373     1\n",
       "-3.630749     1\n",
       " 33.682066    1\n",
       " 1.018665     1\n",
       "-1.244048     1\n",
       " 4.313900     1\n",
       " 9.864588     1\n",
       "-9.861247     1\n",
       "-6.689986     1\n",
       " 7.254970     1\n",
       " 3.061862     1\n",
       " 4.422155     1\n",
       " 13.720805    1\n",
       " 10.434295    1\n",
       " 1.243811     1\n",
       "-9.414253     1\n",
       " 13.497990    1\n",
       " 4.985263     1\n",
       " 8.280410     1\n",
       " 8.843225     1\n",
       "-3.060558     1\n",
       " 13.949149    1\n",
       "-3.064839     1\n",
       "-3.630954     1\n",
       " 0.562345     1\n",
       " 6.353327     1\n",
       "-1.931145     1\n",
       "-3.401438     1\n",
       " 1.358665     1\n",
       "-4.986673     1\n",
       "-5.558432     1\n",
       " 1.246333     1\n",
       " 0.910894     1\n",
       " 2.037683     1\n",
       " 0.109149     1\n",
       " 0.111964     1\n",
       " 11.455849    1\n",
       " 8.727301     1\n",
       "-0.797743     1\n",
       "-1.246379     1\n",
       " 0.112741     1\n",
       " 1.819149     1\n",
       "-3.060367     1\n",
       " 1.359926     1\n",
       " 6.348855     1\n",
       "-4.653183     1\n",
       "-3.062992     1\n",
       " 6.350410     1\n",
       " 5.897008     1\n",
       " 2.037404     1\n",
       " 5.778665     1\n",
       "-20.075221    1\n",
       " 6.238372     1\n",
       "-7.373285     1\n",
       " 8.732360     1\n",
       " 0.342169     1\n",
       "-2.723183     1\n",
       "-5.787552     1\n",
       "-0.909004     1\n",
       " 0.335938     1\n",
       "-10.884546    1\n",
       " 0.798181     1\n",
       " 12.700996    1\n",
       " 6.575072     1\n",
       " 3.624970     1\n",
       "-1.244723     1\n",
       " 11.562755    1\n",
       " 3.066231     1\n",
       " 15.198958    1\n",
       " 5.444486     1\n",
       " 8.167976     1\n",
       " 1.137976     1\n",
       " 4.085366     1\n",
       " 2.603327     1\n",
       "-9.409883     1\n",
       "-8.273183     1\n",
       " 1.698562     1\n",
       "-9.072889     1\n",
       " 6.354588     1\n",
       " 20.294588    1\n",
       " 1.130410     1\n",
       "-3.397552     1\n",
       "-10.435221    1\n",
       " 12.021480    1\n",
       " 1.357301     1\n",
       "-14.287361    1\n",
       " 14.854779    1\n",
       " 3.065849     1\n",
       " 2.383034     1\n",
       " 4.312257     1\n",
       " 6.462639     1\n",
       " 7.028283     1\n",
       " 4.313811     1\n",
       " 6.920512     1\n",
       " 2.604398     1\n",
       "-3.063094     1\n",
       " 25.060805    1\n",
       " 10.994779    1\n",
       " 4.994384     1\n",
       " 11.116627    1\n",
       " 19.506920    1\n",
       "-0.452024     1\n",
       " 24.381201    1\n",
       " 6.464486     1\n",
       " 2.950410     1\n",
       " 11.231187    1\n",
       " 13.495556    1\n",
       " 5.898665     1\n",
       " 1.357008     1\n",
       " 4.646817     1\n",
       " 7.374588     1\n",
       "-1.929004     1\n",
       " 5.669823     1\n",
       " 4.758665     1\n",
       "-7.713476     1\n",
       " 5.447008     1\n",
       " 8.390233     1\n",
       " 14.290703    1\n",
       "-5.787655     1\n",
       " 4.985366     1\n",
       " 8.502448     1\n",
       " 3.626436     1\n",
       " 7.600996     1\n",
       "-4.536775     1\n",
       "-29.025793    1\n",
       " 7.142550     1\n",
       " 3.741084     1\n",
       "-4.310470     1\n",
       " 4.990703     1\n",
       " 23.023137    1\n",
       " 0.449046     1\n",
       " 1.135161     1\n",
       "-4.993373     1\n",
       "-0.681424     1\n",
       " 3.400410     1\n",
       " 5.559149     1\n",
       " 15.532843    1\n",
       " 37.650512    1\n",
       "-5.438725     1\n",
       " 2.263034     1\n",
       " 9.067008     1\n",
       " 1.814882     1\n",
       "-0.343285     1\n",
       "-6.808329     1\n",
       "-9.075323     1\n",
       " 1.365161     1\n",
       " 2.385454     1\n",
       "-0.230367     1\n",
       " 6.121378     1\n",
       " 9.864779     1\n",
       "-3.065132     1\n",
       "-1.359106     1\n",
       " 14.738576    1\n",
       "-3.511042     1\n",
       "-7.479400     1\n",
       " 0.223416     1\n",
       " 7.032932     1\n",
       " 15.653034    1\n",
       "-1.927655     1\n",
       " 3.856333     1\n",
       " 1.017008     1\n",
       "-12.019679    1\n",
       "-7.480367     1\n",
       " 0.794882     1\n",
       "-5.667552     1\n",
       " 6.574398     1\n",
       "-21.092215    1\n",
       " 6.351964     1\n",
       " 5.212550     1\n",
       " 12.474588    1\n",
       " 14.176157    1\n",
       "-0.902992     1\n",
       "-1.698622     1\n",
       " 9.980410     1\n",
       "-13.944737    1\n",
       " 3.859633     1\n",
       " 6.806920     1\n",
       " 8.276817     1\n",
       " 0.450703     1\n",
       " 5.329633     1\n",
       "-18.940954    1\n",
       " 0.110131     1\n",
       " 0.562155     1\n",
       "-1.819004     1\n",
       " 15.872257    1\n",
       " 9.861187     1\n",
       "-2.717845     1\n",
       "-4.082992     1\n",
       " 4.419060     1\n",
       " 4.989251     1\n",
       " 4.990117     1\n",
       " 9.414486     1\n",
       " 6.240703     1\n",
       "-5.441321     1\n",
       " 1.932448     1\n",
       " 10.429837    1\n",
       " 13.042257    1\n",
       " 4.878665     1\n",
       " 0.448856     1\n",
       " 0.336129     1\n",
       "-0.798227     1\n",
       "-0.224928     1\n",
       " 8.508665     1\n",
       " 2.950600     1\n",
       " 20.180117    1\n",
       " 4.540894     1\n",
       "-6.690074     1\n",
       "-4.531922     1\n",
       " 6.240117     1\n",
       " 8.618665     1\n",
       "-5.666482     1\n",
       "-1.135602     1\n",
       " 0.792741     1\n",
       " 13.154295    1\n",
       "-8.164546     1\n",
       " 10.087785    1\n",
       "-6.694737     1\n",
       " 1.016817     1\n",
       " 3.744970     1\n",
       "-3.745807     1\n",
       " 7.829149     1\n",
       " 5.557594     1\n",
       "-1.136100     1\n",
       " 8.160615     1\n",
       " 1.364677     1\n",
       " 14.857594    1\n",
       "-22.338241    1\n",
       "-4.767068     1\n",
       " 7.481289     1\n",
       "-2.950954     1\n",
       " 5.448078     1\n",
       " 11.341773    1\n",
       "-9.867934     1\n",
       " 0.337594     1\n",
       "-1.475030     1\n",
       " 2.952448     1\n",
       " 18.485072    1\n",
       "-5.781144     1\n",
       " 4.992550     1\n",
       " 2.830117     1\n",
       " 1.929735     1\n",
       " 6.239149     1\n",
       "-4.879004     1\n",
       "-0.341145     1\n",
       "-0.003857     1\n",
       "-21.432992    1\n",
       " 11.569251    1\n",
       " 6.465454     1\n",
       " 2.266627     1\n",
       " 2.151378     1\n",
       " 1.130996     1\n",
       "-1.019297     1\n",
       " 10.550805    1\n",
       "-10.429781    1\n",
       "-3.513183     1\n",
       " 2.944105     1\n",
       "-10.088725    1\n",
       " 0.001671     1\n",
       " 3.397888     1\n",
       "-5.896775     1\n",
       " 8.960996     1\n",
       "-6.688711     1\n",
       " 6.580894     1\n",
       " 1.023811     1\n",
       "-7.256584     1\n",
       "-5.551628     1\n",
       " 4.644677     1\n",
       "-9.752992     1\n",
       " 4.764295     1\n",
       "-7.259209     1\n",
       " 6.012932     1\n",
       "-3.746394     1\n",
       "-5.778329     1\n",
       "-3.514928     1\n",
       " 11.683137    1\n",
       " 4.080703     1\n",
       " 10.316627    1\n",
       " 0.681187     1\n",
       " 3.743416     1\n",
       " 9.296627     1\n",
       " 5.105454     1\n",
       "-1.811540     1\n",
       " 6.694193     1\n",
       " 12.591201    1\n",
       " 3.404677     1\n",
       " 7.706817     1\n",
       " 0.681964     1\n",
       " 10.436040    1\n",
       " 3.283709     1\n",
       " 18.027315    1\n",
       " 2.607888     1\n",
       " 6.802741     1\n",
       " 13.154588    1\n",
       "-6.805016     1\n",
       "-8.392406     1\n",
       " 2.039251     1\n",
       "-2.719679     1\n",
       " 2.384779     1\n",
       "-6.801628     1\n",
       " 3.402932     1\n",
       " 12.591099    1\n",
       "-7.366100     1\n",
       " 2.382932     1\n",
       " 9.408181     1\n",
       " 6.232932     1\n",
       " 1.705454     1\n",
       " 4.307008     1\n",
       " 18.029149    1\n",
       "-6.346966     1\n",
       " 0.451876     1\n",
       " 6.914193     1\n",
       " 1.357976     1\n",
       " 2.381084     1\n",
       " 0.568576     1\n",
       "-15.308916    1\n",
       " 7.821084     1\n",
       " 3.970117     1\n",
       " 1.698181     1\n",
       " 12.589735    1\n",
       " 0.001084     1\n",
       "-2.611628     1\n",
       " 7.026920     1\n",
       "-1.132992     1\n",
       "-3.625221     1\n",
       "-2.723960     1\n",
       "-9.642992     1\n",
       " 0.457008     1\n",
       "-0.225412     1\n",
       "-4.192992     1\n",
       " 11.791773    1\n",
       "-1.704546     1\n",
       " 3.971582     1\n",
       " 7.708958     1\n",
       "-5.552317     1\n",
       " 7.368767     1\n",
       " 14.175086    1\n",
       " 6.458767     1\n",
       " 6.799823     1\n",
       " 10.318958    1\n",
       " 7.374779     1\n",
       "-4.421628     1\n",
       "-3.285514     1\n",
       "-0.791628     1\n",
       " 2.611378     1\n",
       "-5.105412     1\n",
       " 3.971964     1\n",
       " 4.874486     1\n",
       " 5.897888     1\n",
       " 13.382550    1\n",
       " 7.482257     1\n",
       " 30.619456    1\n",
       "-0.796482     1\n",
       " 4.311964     1\n",
       " 8.954486     1\n",
       " 1.818181     1\n",
       "-4.647068     1\n",
       " 1.252155     1\n",
       "-1.244839     1\n",
       " 2.265072     1\n",
       "-0.225221     1\n",
       " 7.030512     1\n",
       " 4.880117     1\n",
       " 0.116715     1\n",
       " 5.673811     1\n",
       " 7.482066     1\n",
       " 21.207697    1\n",
       "-1.928622     1\n",
       " 18.486436    1\n",
       " 1.925454     1\n",
       " 6.010117     1\n",
       " 1.810996     1\n",
       " 5.674486     1\n",
       "-1.363960     1\n",
       " 18.366627    1\n",
       " 2.496245     1\n",
       "-4.425602     1\n",
       " 17.580512    1\n",
       " 1.591671     1\n",
       "-4.757845     1\n",
       " 3.398855     1\n",
       "-23.477640    1\n",
       "-3.510763     1\n",
       " 12.475072    1\n",
       "-16.778813    1\n",
       " 0.564691     1\n",
       " 0.562550     1\n",
       "-0.336291     1\n",
       "-4.079693     1\n",
       " 22.910321    1\n",
       " 11.228665    1\n",
       "-2.152889     1\n",
       " 2.044486     1\n",
       "-3.400954     1\n",
       "-0.563271     1\n",
       "-0.002112     1\n",
       " 6.240321     1\n",
       " 1.930117     1\n",
       " 14.405556    1\n",
       "-1.251233     1\n",
       " 2.839442     1\n",
       " 13.834793    1\n",
       " 9.753225     1\n",
       " 5.445072     1\n",
       " 17.576245    1\n",
       " 2.723327     1\n",
       " 6.126627     1\n",
       " 3.284398     1\n",
       "-14.510470    1\n",
       " 1.590791     1\n",
       "-1.925895     1\n",
       "-0.564253     1\n",
       " 1.588753     1\n",
       " 6.232946     1\n",
       " 5.672550     1\n",
       " 2.493811     1\n",
       " 3.060703     1\n",
       " 7.485747     1\n",
       " 10.542448    1\n",
       "-1.925323     1\n",
       " 0.113225     1\n",
       " 3.176817     1\n",
       " 8.166040     1\n",
       " 6.462257     1\n",
       " 4.305072     1\n",
       " 2.264779     1\n",
       "-1.022010     1\n",
       " 3.062741     1\n",
       " 4.199442     1\n",
       "-3.519400     1\n",
       " 16.673034    1\n",
       " 1.249823     1\n",
       "-1.025030     1\n",
       " 3.060410     1\n",
       " 4.191378     1\n",
       "-6.122801     1\n",
       " 2.832843     1\n",
       " 5.325454     1\n",
       " 5.219823     1\n",
       "-3.969883     1\n",
       "-1.815602     1\n",
       " 12.361582    1\n",
       "-5.780851     1\n",
       " 19.733225    1\n",
       " 2.604970     1\n",
       " 1.932155     1\n",
       "-9.749986     1\n",
       " 6.686627     1\n",
       " 3.970219     1\n",
       "-2.377640     1\n",
       " 23.014984    1\n",
       " 1.477199     1\n",
       " 5.334002     1\n",
       " 3.628753     1\n",
       "-12.243857    1\n",
       " 1.699823     1\n",
       " 0.797008     1\n",
       " 8.052550     1\n",
       " 6.125072     1\n",
       "-1.929106     1\n",
       "-2.722508     1\n",
       "-8.393183     1\n",
       " 0.231773     1\n",
       "-0.908916     1\n",
       "-0.682406     1\n",
       " 7.256817     1\n",
       " 0.571964     1\n",
       " 1.024779     1\n",
       " 9.974970     1\n",
       " 9.522360     1\n",
       " 2.609060     1\n",
       " 1.813811     1\n",
       " 3.742257     1\n",
       " 6.800996     1\n",
       " 8.274779     1\n",
       " 5.444588     1\n",
       " 4.766524     1\n",
       "-2.607845     1\n",
       "-2.384253     1\n",
       "-14.057655    1\n",
       " 6.235454     1\n",
       " 4.648855     1\n",
       " 1.244588     1\n",
       " 2.038283     1\n",
       " 0.335849     1\n",
       " 5.216920     1\n",
       "-13.609883    1\n",
       " 1.244295     1\n",
       " 2.720117     1\n",
       "-2.605221     1\n",
       " 20.072946    1\n",
       " 7.602257     1\n",
       " 5.443327     1\n",
       " 3.741187     1\n",
       " 1.814295     1\n",
       " 5.555263     1\n",
       " 1.356729     1\n",
       " 6.463137     1\n",
       " 12.585570    1\n",
       " 9.636040     1\n",
       " 1.702257     1\n",
       " 1.358958     1\n",
       " 5.319544     1\n",
       " 2.494384     1\n",
       " 10.087990    1\n",
       " 7.140703     1\n",
       " 9.185175     1\n",
       " 3.853416     1\n",
       " 8.621378     1\n",
       "-4.762303     1\n",
       "-2.263960     1\n",
       " 13.611378    1\n",
       " 20.298474    1\n",
       " 8.386920     1\n",
       " 1.362345     1\n",
       " 10.998870    1\n",
       " 25.513532    1\n",
       " 5.217492     1\n",
       " 6.467785     1\n",
       " 1.929633     1\n",
       "-7.252992     1\n",
       " 13.720321    1\n",
       "-5.672992     1\n",
       "-12.251540    1\n",
       "-2.383373     1\n",
       " 11.003518    1\n",
       " 9.635366     1\n",
       "-1.020954     1\n",
       "-7.375602     1\n",
       " 0.230600     1\n",
       "-3.172596     1\n",
       "-2.946086     1\n",
       " 6.807888     1\n",
       "-3.629297     1\n",
       " 1.931964     1\n",
       " 0.228855     1\n",
       " 10.655747    1\n",
       "-1.700851     1\n",
       "-11.340661    1\n",
       "-0.229297     1\n",
       " 5.894779     1\n",
       "-3.742992     1\n",
       "-8.047640     1\n",
       " 3.852448     1\n",
       " 12.022741    1\n",
       " 0.910117     1\n",
       "-2.376482     1\n",
       " 8.728269     1\n",
       " 6.806627     1\n",
       " 5.212741     1\n",
       " 10.320219    1\n",
       " 4.650028     1\n",
       "-0.000367     1\n",
       " 7.368562     1\n",
       " 3.285747     1\n",
       " 6.807404     1\n",
       "-2.040470     1\n",
       "-19.734620    1\n",
       "-0.902406     1\n",
       "-1.704253     1\n",
       " 1.243416     1\n",
       "-5.327171     1\n",
       " 10.886627    1\n",
       " 1.816538     1\n",
       "-8.047845     1\n",
       "-0.002508     1\n",
       "-2.833769     1\n",
       " 7.484779     1\n",
       " 2.042755     1\n",
       "-3.289590     1\n",
       "-2.494136     1\n",
       " 9.643225     1\n",
       " 5.783327     1\n",
       " 6.126715     1\n",
       " 2.835659     1\n",
       "-9.075221     1\n",
       " 6.012066     1\n",
       "-1.922992     1\n",
       " 1.022829     1\n",
       " 7.936817     1\n",
       "-2.377450     1\n",
       " 3.964779     1\n",
       " 1.363327     1\n",
       "-2.155323     1\n",
       " 16.781201    1\n",
       " 4.653225     1\n",
       " 2.498474     1\n",
       "-7.821247     1\n",
       " 7.034486     1\n",
       " 2.267404     1\n",
       "-3.398432     1\n",
       " 1.930512     1\n",
       "-1.134928     1\n",
       " 8.392741     1\n",
       " 9.862843     1\n",
       " 11.224105    1\n",
       "-3.627068     1\n",
       "-0.454928     1\n",
       " 1.809735     1\n",
       " 9.183225     1\n",
       " 10.887785    1\n",
       " 2.718372     1\n",
       " 1.702155     1\n",
       "-4.992215     1\n",
       " 0.453709     1\n",
       " 3.286524     1\n",
       " 9.860703     1\n",
       " 10.548078    1\n",
       " 2.382741     1\n",
       " 2.835454     1\n",
       " 3.401289     1\n",
       "-2.834444     1\n",
       " 0.340410     1\n",
       " 8.161289     1\n",
       " 10.890219    1\n",
       " 2.044588     1\n",
       " 5.330894     1\n",
       " 4.762066     1\n",
       " 4.536627     1\n",
       "-1.703667     1\n",
       "-0.904737     1\n",
       " 10.884882    1\n",
       "-1.929972     1\n",
       "-3.738520     1\n",
       " 9.074193     1\n",
       " 1.586920     1\n",
       "-5.669106     1\n",
       " 7.821773     1\n",
       "-1.478520     1\n",
       " 14.179735    1\n",
       "-8.163373     1\n",
       "-0.912112     1\n",
       " 2.380028     1\n",
       " 1.132843     1\n",
       " 7.252550     1\n",
       "-1.929590     1\n",
       "-9.071922     1\n",
       " 0.906040     1\n",
       "-2.944253     1\n",
       " 0.454677     1\n",
       " 3.514193     1\n",
       " 17.345072    1\n",
       "-14.291438    1\n",
       "-8.394928     1\n",
       "-30.501922    1\n",
       "-10.890954    1\n",
       " 6.578474     1\n",
       " 1.476040     1\n",
       "-1.278138     1\n",
       " 6.345556     1\n",
       " 2.952829     1\n",
       " 8.163900     1\n",
       "-5.211335     1\n",
       " 4.874779     1\n",
       " 3.061671     1\n",
       " 10.093811    1\n",
       " 2.491378     1\n",
       " 2.381582     1\n",
       "-2.384928     1\n",
       " 3.289149     1\n",
       " 7.594970     1\n",
       " 14.743430    1\n",
       " 0.116524     1\n",
       " 1.705072     1\n",
       " 3.854486     1\n",
       "-6.913285     1\n",
       "-1.475514     1\n",
       "-2.950470     1\n",
       " 7.258474     1\n",
       "-3.288329     1\n",
       " 2.267785     1\n",
       " 4.873225     1\n",
       " 0.457785     1\n",
       " 15.764207    1\n",
       "Name: wt82_71, dtype: int64"
      ]
     },
     "execution_count": 16,
     "metadata": {},
     "output_type": "execute_result"
    }
   ],
   "source": [
    "data['wt82_71'].value_counts()"
   ]
  },
  {
   "cell_type": "code",
   "execution_count": 17,
   "metadata": {
    "slideshow": {
     "slide_type": "subslide"
    }
   },
   "outputs": [],
   "source": [
    "Y = data['wt82_71']"
   ]
  },
  {
   "cell_type": "markdown",
   "metadata": {
    "slideshow": {
     "slide_type": "subslide"
    }
   },
   "source": [
    "* The <b>confounding</b> variables (<b>X</b>) (variables that influence both the independent variables and dependent variable causing spurious correlations) will be:"
   ]
  },
  {
   "cell_type": "code",
   "execution_count": 18,
   "metadata": {
    "slideshow": {
     "slide_type": "fragment"
    }
   },
   "outputs": [],
   "source": [
    "cf = [\"active\",          # Measure of daily activity on 1971.\n",
    "      \"age\",             # Age in 1971.\n",
    "      \"education\",       # Amount of education in 1971: from 8th-grade to college level education.\n",
    "      \"exercise\",        # Measure of recreational excercise.\n",
    "      \"race\",            # Caucasian or not.\n",
    "      \"sex\",             # Female or male.\n",
    "      \"smokeintensity\",  # Number of Cigarettes smoked per day in 1971.  \n",
    "      \"smokeyrs\",        # Years of smoking.\n",
    "      \"wt71\"             # Weight in Kilograms in 1971.\n",
    "    \n",
    "]\n",
    "X = data[cf]"
   ]
  },
  {
   "cell_type": "code",
   "execution_count": 19,
   "metadata": {
    "slideshow": {
     "slide_type": "subslide"
    }
   },
   "outputs": [
    {
     "name": "stdout",
     "output_type": "stream",
     "text": [
      "(1566, 9)\n"
     ]
    },
    {
     "data": {
      "text/html": [
       "<div>\n",
       "<style scoped>\n",
       "    .dataframe tbody tr th:only-of-type {\n",
       "        vertical-align: middle;\n",
       "    }\n",
       "\n",
       "    .dataframe tbody tr th {\n",
       "        vertical-align: top;\n",
       "    }\n",
       "\n",
       "    .dataframe thead th {\n",
       "        text-align: right;\n",
       "    }\n",
       "</style>\n",
       "<table border=\"1\" class=\"dataframe\">\n",
       "  <thead>\n",
       "    <tr style=\"text-align: right;\">\n",
       "      <th></th>\n",
       "      <th>active</th>\n",
       "      <th>age</th>\n",
       "      <th>education</th>\n",
       "      <th>exercise</th>\n",
       "      <th>race</th>\n",
       "      <th>sex</th>\n",
       "      <th>smokeintensity</th>\n",
       "      <th>smokeyrs</th>\n",
       "      <th>wt71</th>\n",
       "    </tr>\n",
       "  </thead>\n",
       "  <tbody>\n",
       "    <tr>\n",
       "      <th>0</th>\n",
       "      <td>0</td>\n",
       "      <td>42</td>\n",
       "      <td>1</td>\n",
       "      <td>2</td>\n",
       "      <td>1</td>\n",
       "      <td>0</td>\n",
       "      <td>30</td>\n",
       "      <td>29</td>\n",
       "      <td>79.04</td>\n",
       "    </tr>\n",
       "    <tr>\n",
       "      <th>1</th>\n",
       "      <td>0</td>\n",
       "      <td>36</td>\n",
       "      <td>2</td>\n",
       "      <td>0</td>\n",
       "      <td>0</td>\n",
       "      <td>0</td>\n",
       "      <td>20</td>\n",
       "      <td>24</td>\n",
       "      <td>58.63</td>\n",
       "    </tr>\n",
       "    <tr>\n",
       "      <th>2</th>\n",
       "      <td>0</td>\n",
       "      <td>56</td>\n",
       "      <td>2</td>\n",
       "      <td>2</td>\n",
       "      <td>1</td>\n",
       "      <td>1</td>\n",
       "      <td>20</td>\n",
       "      <td>26</td>\n",
       "      <td>56.81</td>\n",
       "    </tr>\n",
       "    <tr>\n",
       "      <th>3</th>\n",
       "      <td>1</td>\n",
       "      <td>68</td>\n",
       "      <td>1</td>\n",
       "      <td>2</td>\n",
       "      <td>1</td>\n",
       "      <td>0</td>\n",
       "      <td>3</td>\n",
       "      <td>53</td>\n",
       "      <td>59.42</td>\n",
       "    </tr>\n",
       "    <tr>\n",
       "      <th>4</th>\n",
       "      <td>1</td>\n",
       "      <td>40</td>\n",
       "      <td>2</td>\n",
       "      <td>1</td>\n",
       "      <td>0</td>\n",
       "      <td>0</td>\n",
       "      <td>20</td>\n",
       "      <td>19</td>\n",
       "      <td>87.09</td>\n",
       "    </tr>\n",
       "  </tbody>\n",
       "</table>\n",
       "</div>"
      ],
      "text/plain": [
       "   active  age  education  exercise  race  sex  smokeintensity  smokeyrs  \\\n",
       "0       0   42          1         2     1    0              30        29   \n",
       "1       0   36          2         0     0    0              20        24   \n",
       "2       0   56          2         2     1    1              20        26   \n",
       "3       1   68          1         2     1    0               3        53   \n",
       "4       1   40          2         1     0    0              20        19   \n",
       "\n",
       "    wt71  \n",
       "0  79.04  \n",
       "1  58.63  \n",
       "2  56.81  \n",
       "3  59.42  \n",
       "4  87.09  "
      ]
     },
     "execution_count": 19,
     "metadata": {},
     "output_type": "execute_result"
    }
   ],
   "source": [
    "print(X.shape)\n",
    "X.head()"
   ]
  },
  {
   "cell_type": "code",
   "execution_count": 20,
   "metadata": {
    "slideshow": {
     "slide_type": "subslide"
    }
   },
   "outputs": [
    {
     "data": {
      "text/plain": [
       "1    715\n",
       "0    702\n",
       "2    149\n",
       "Name: active, dtype: int64"
      ]
     },
     "execution_count": 20,
     "metadata": {},
     "output_type": "execute_result"
    }
   ],
   "source": [
    "X['active'].value_counts()"
   ]
  },
  {
   "cell_type": "code",
   "execution_count": 21,
   "metadata": {
    "slideshow": {
     "slide_type": "subslide"
    }
   },
   "outputs": [
    {
     "data": {
      "text/plain": [
       "1    661\n",
       "2    605\n",
       "0    300\n",
       "Name: exercise, dtype: int64"
      ]
     },
     "execution_count": 21,
     "metadata": {},
     "output_type": "execute_result"
    }
   ],
   "source": [
    "X['exercise'].value_counts()"
   ]
  },
  {
   "cell_type": "markdown",
   "metadata": {
    "slideshow": {
     "slide_type": "subslide"
    }
   },
   "source": [
    "* <b>Distribution</b> of the <b>outcome</b> in relation to the <b>control</b> and <b>treatment</b> groups"
   ]
  },
  {
   "cell_type": "code",
   "execution_count": 22,
   "metadata": {
    "slideshow": {
     "slide_type": "fragment"
    }
   },
   "outputs": [
    {
     "data": {
      "text/plain": [
       "1163"
      ]
     },
     "execution_count": 22,
     "metadata": {},
     "output_type": "execute_result"
    }
   ],
   "source": [
    "data[data.qsmk==0].wt82_71.count()"
   ]
  },
  {
   "cell_type": "code",
   "execution_count": 23,
   "metadata": {
    "slideshow": {
     "slide_type": "fragment"
    }
   },
   "outputs": [
    {
     "data": {
      "text/plain": [
       "403"
      ]
     },
     "execution_count": 23,
     "metadata": {},
     "output_type": "execute_result"
    }
   ],
   "source": [
    "data[data.qsmk==1].wt82_71.count()"
   ]
  },
  {
   "cell_type": "markdown",
   "metadata": {
    "slideshow": {
     "slide_type": "fragment"
    }
   },
   "source": [
    "We have a very imbalanced dataset with 1163 samples for the control group and 403 samples for the treatment group"
   ]
  },
  {
   "cell_type": "code",
   "execution_count": 24,
   "metadata": {
    "slideshow": {
     "slide_type": "subslide"
    }
   },
   "outputs": [
    {
     "data": {
      "text/plain": [
       "<AxesSubplot:xlabel='wt82_71', ylabel='Density'>"
      ]
     },
     "execution_count": 24,
     "metadata": {},
     "output_type": "execute_result"
    },
    {
     "data": {
      "image/png": "[encoded data removed]",
      "text/plain": [
       "<Figure size 432x288 with 1 Axes>"
      ]
     },
     "metadata": {
      "needs_background": "light"
     },
     "output_type": "display_data"
    }
   ],
   "source": [
    "sns.kdeplot(data.loc[lambda df: df.qsmk==0].wt82_71, label='control')\n",
    "sns.kdeplot(data.loc[lambda df: df.qsmk==1].wt82_71, label='treatment')"
   ]
  },
  {
   "cell_type": "code",
   "execution_count": 25,
   "metadata": {
    "slideshow": {
     "slide_type": "subslide"
    }
   },
   "outputs": [
    {
     "data": {
      "text/html": [
       "<div>\n",
       "<style scoped>\n",
       "    .dataframe tbody tr th:only-of-type {\n",
       "        vertical-align: middle;\n",
       "    }\n",
       "\n",
       "    .dataframe tbody tr th {\n",
       "        vertical-align: top;\n",
       "    }\n",
       "\n",
       "    .dataframe thead th {\n",
       "        text-align: right;\n",
       "    }\n",
       "</style>\n",
       "<table border=\"1\" class=\"dataframe\">\n",
       "  <thead>\n",
       "    <tr style=\"text-align: right;\">\n",
       "      <th></th>\n",
       "      <th>mean</th>\n",
       "    </tr>\n",
       "    <tr>\n",
       "      <th>qsmk</th>\n",
       "      <th></th>\n",
       "    </tr>\n",
       "  </thead>\n",
       "  <tbody>\n",
       "    <tr>\n",
       "      <th>0</th>\n",
       "      <td>1.984498</td>\n",
       "    </tr>\n",
       "    <tr>\n",
       "      <th>1</th>\n",
       "      <td>4.525079</td>\n",
       "    </tr>\n",
       "  </tbody>\n",
       "</table>\n",
       "</div>"
      ],
      "text/plain": [
       "          mean\n",
       "qsmk          \n",
       "0     1.984498\n",
       "1     4.525079"
      ]
     },
     "execution_count": 25,
     "metadata": {},
     "output_type": "execute_result"
    }
   ],
   "source": [
    "data.groupby('qsmk')['wt82_71'].agg(['mean'])"
   ]
  },
  {
   "cell_type": "markdown",
   "metadata": {
    "slideshow": {
     "slide_type": "fragment"
    }
   },
   "source": [
    "The mean weight gain value for the treatment group is greater than the mean value for the control group. Could we think that the treatment had a postive impact (more weight for subjects who quit smoking)? We have to remember that the dataset is imbalanced."
   ]
  },
  {
   "cell_type": "markdown",
   "metadata": {
    "slideshow": {
     "slide_type": "subslide"
    }
   },
   "source": [
    "* <b>Distribution</b> of several <b>covariates</b> in relation to the <b>control</b> and <b>treatment</b> groups"
   ]
  },
  {
   "cell_type": "code",
   "execution_count": 26,
   "metadata": {
    "slideshow": {
     "slide_type": "skip"
    }
   },
   "outputs": [
    {
     "data": {
      "text/plain": [
       "qsmk\n",
       "0    AxesSubplot(0.125,0.125;0.775x0.755)\n",
       "1    AxesSubplot(0.125,0.125;0.775x0.755)\n",
       "Name: age, dtype: object"
      ]
     },
     "execution_count": 26,
     "metadata": {},
     "output_type": "execute_result"
    },
    {
     "data": {
      "image/png": "[encoded data removed]",
      "text/plain": [
       "<Figure size 432x288 with 1 Axes>"
      ]
     },
     "metadata": {
      "needs_background": "light"
     },
     "output_type": "display_data"
    }
   ],
   "source": [
    "data.groupby('qsmk')['age'].plot(kind='hist', bins=20, alpha=0.8, legend=True)"
   ]
  },
  {
   "cell_type": "code",
   "execution_count": 27,
   "metadata": {
    "slideshow": {
     "slide_type": "subslide"
    }
   },
   "outputs": [
    {
     "data": {
      "text/plain": [
       "qsmk\n",
       "0    AxesSubplot(0.125,0.125;0.775x0.755)\n",
       "1    AxesSubplot(0.125,0.125;0.775x0.755)\n",
       "Name: active, dtype: object"
      ]
     },
     "execution_count": 27,
     "metadata": {},
     "output_type": "execute_result"
    },
    {
     "data": {
      "image/png": "[encoded data removed]",
      "text/plain": [
       "<Figure size 432x288 with 1 Axes>"
      ]
     },
     "metadata": {
      "needs_background": "light"
     },
     "output_type": "display_data"
    }
   ],
   "source": [
    "data.groupby('qsmk')['active'].plot(kind='hist', bins=20, alpha=0.5, legend=True)"
   ]
  },
  {
   "cell_type": "markdown",
   "metadata": {
    "slideshow": {
     "slide_type": "slide"
    }
   },
   "source": [
    "## Causal Inference Analysis\n",
    "\n",
    "![image](imgs/causality.jpeg)\n",
    "\n",
    "\n",
    "P(Y | do(X)) vs P(Y | X) "
   ]
  },
  {
   "cell_type": "markdown",
   "metadata": {
    "slideshow": {
     "slide_type": "subslide"
    }
   },
   "source": [
    "### Potential Outcomes"
   ]
  },
  {
   "cell_type": "markdown",
   "metadata": {
    "slideshow": {
     "slide_type": "fragment"
    }
   },
   "source": [
    "Y = Y(0) when A = 0<br><br>\n",
    "Y = Y(1) when A = 1"
   ]
  },
  {
   "cell_type": "markdown",
   "metadata": {
    "slideshow": {
     "slide_type": "subslide"
    }
   },
   "source": [
    "### Goal"
   ]
  },
  {
   "cell_type": "markdown",
   "metadata": {
    "slideshow": {
     "slide_type": "fragment"
    }
   },
   "source": [
    "We want to estimate the <b>ATE</b> so the real ATE measured in a Randomized Controlled Trial (interventional distribution) can be defined as:<br><br> Δreal = E[Y(1) - Y(0)] <br><br>But if we want to compute it from observational data:<br><br> Δobs = E[Y|A=1] - E[Y|A=0] = E[Y(1)|A=1] - E[Y(0)|A=0] <> Δreal<br><br> because <br><br>E[Y(i)|X=i] <> E[Y(i)].<br><br>"
   ]
  },
  {
   "cell_type": "markdown",
   "metadata": {
    "slideshow": {
     "slide_type": "subslide"
    }
   },
   "source": [
    "### Assumption"
   ]
  },
  {
   "cell_type": "markdown",
   "metadata": {
    "slideshow": {
     "slide_type": "fragment"
    }
   },
   "source": [
    "RCT: <br><br> Y(0), Y(1) ⊥ A <br><br>\n",
    "     P(A, Y(0), Y(1)) = P(A) * P(Y(0), Y(1))  <br><br>\n",
    "     E[Y(i) | X=i] = E[Y(i)] <br><br>\n",
    "\n",
    "\n",
    "Ignorability assumption: The treatment (A) received  by a sample is totally explained by the random variable(s) X and the output is independent from the treatment assignment A. <br><br>\n",
    "Y(0), Y(1) ⊥ A|X <br><br>\n",
    "P(A,Y(0),Y(1)|X) = P(A|X)*P(Y(0),Y(1)|X)<br><br>\n",
    "The treatment is assumed to be unconfounded in the sense that the dependence between the treatment assignment and the outcomes is only through something we observe, namely the covariates X.\n"
   ]
  },
  {
   "cell_type": "markdown",
   "metadata": {
    "slideshow": {
     "slide_type": "subslide"
    }
   },
   "source": [
    "### ATE using Linear Model"
   ]
  },
  {
   "cell_type": "markdown",
   "metadata": {
    "slideshow": {
     "slide_type": "fragment"
    }
   },
   "source": [
    "We're going to assume that:<br><br>\n",
    "Y(0) = α+βX+ϵ<br><br>\n",
    "where ϵ (residual) represents the noise (Y(0) doesn't have the treatment variable A) and<br><br>\n",
    "Y(1) = Y(0)+γA<br><br>\n",
    "So we can estimate the ATE as:<br><br>\n",
    "Y = α+βX+γA<br><br>"
   ]
  },
  {
   "cell_type": "code",
   "execution_count": 28,
   "metadata": {
    "slideshow": {
     "slide_type": "fragment"
    }
   },
   "outputs": [],
   "source": [
    "model = CausalModel(Y=data.wt82_71.values, D=data.qsmk.values, X=X.values)"
   ]
  },
  {
   "cell_type": "markdown",
   "metadata": {
    "slideshow": {
     "slide_type": "subslide"
    }
   },
   "source": [
    "The parameter <b>adj</b> indicates how covariate adjustments are to be performed. Set adj = 0 to not include any covariates. Set adj = 1 to include treatment indicator D and covariates X separately."
   ]
  },
  {
   "cell_type": "code",
   "execution_count": 29,
   "metadata": {
    "slideshow": {
     "slide_type": "fragment"
    }
   },
   "outputs": [
    {
     "name": "stderr",
     "output_type": "stream",
     "text": [
      "/home/eldar/anaconda3/envs/dl/lib/python3.9/site-packages/causalinference/estimators/ols.py:21: FutureWarning: `rcond` parameter will change to the default of machine precision times ``max(M, N)`` where M and N are the input matrix dimensions.\n",
      "To use the future default and silence this warning we advise to pass `rcond=None`, to keep using the old, explicitly pass `rcond=-1`.\n",
      "  olscoef = np.linalg.lstsq(Z, Y)[0]\n"
     ]
    }
   ],
   "source": [
    "model.est_via_ols(adj=1)"
   ]
  },
  {
   "cell_type": "code",
   "execution_count": 30,
   "metadata": {
    "slideshow": {
     "slide_type": "subslide"
    }
   },
   "outputs": [
    {
     "name": "stdout",
     "output_type": "stream",
     "text": [
      "\n",
      "Treatment Effect Estimates: OLS\n",
      "\n",
      "                     Est.       S.e.          z      P>|z|      [95% Conf. int.]\n",
      "--------------------------------------------------------------------------------\n",
      "           ATE      3.349      0.473      7.084      0.000      2.422      4.275\n",
      "\n"
     ]
    }
   ],
   "source": [
    "print(model.estimates)"
   ]
  },
  {
   "cell_type": "markdown",
   "metadata": {
    "slideshow": {
     "slide_type": "fragment"
    }
   },
   "source": [
    "The estimated ATE is 3.349 (postive weight gain in relation to the treatment of giving up smoking). If our model decribes accurately the confounders X, we got a 95% confidence interval (If we repeat 100 times the experiment, the ATE would be inside of that interval in 95 times).<br><br>\n",
    "95 % Confidence Interval = AVG ± 1.96 * np.sqrt(data[data[A]==1].wt82_71.var()/data[data.[A]==1].shape[0] + data[data[A]==0].wt82_71.var()/data[data[A]==0].shape[0])"
   ]
  },
  {
   "cell_type": "markdown",
   "metadata": {
    "slideshow": {
     "slide_type": "subslide"
    }
   },
   "source": [
    "### ATE via Matching"
   ]
  },
  {
   "cell_type": "markdown",
   "metadata": {
    "slideshow": {
     "slide_type": "fragment"
    }
   },
   "source": [
    "For each sample we're going to take the most similar one from the other treatment group (control) and we're going to estimate the ATE using them. To decide what's the meaning of the most similar one we're going to choose the Nearest neighbourg from the X covariate space, weighting the distances using the inverse of the variance of each covariate."
   ]
  },
  {
   "cell_type": "code",
   "execution_count": 31,
   "metadata": {
    "slideshow": {
     "slide_type": "fragment"
    }
   },
   "outputs": [],
   "source": [
    "model = CausalModel(Y=data.wt82_71.values, D=data.qsmk.values, X=X.values)"
   ]
  },
  {
   "cell_type": "code",
   "execution_count": 32,
   "metadata": {
    "slideshow": {
     "slide_type": "fragment"
    }
   },
   "outputs": [],
   "source": [
    "model.est_via_matching()"
   ]
  },
  {
   "cell_type": "code",
   "execution_count": 33,
   "metadata": {
    "slideshow": {
     "slide_type": "fragment"
    }
   },
   "outputs": [
    {
     "name": "stdout",
     "output_type": "stream",
     "text": [
      "\n",
      "Treatment Effect Estimates: Matching\n",
      "\n",
      "                     Est.       S.e.          z      P>|z|      [95% Conf. int.]\n",
      "--------------------------------------------------------------------------------\n",
      "           ATE      3.612      0.760      4.751      0.000      2.122      5.102\n",
      "           ATC      3.643      0.829      4.395      0.000      2.018      5.268\n",
      "           ATT      3.523      0.860      4.096      0.000      1.837      5.208\n",
      "\n"
     ]
    }
   ],
   "source": [
    "print(model.estimates)"
   ]
  },
  {
   "cell_type": "markdown",
   "metadata": {
    "slideshow": {
     "slide_type": "subslide"
    }
   },
   "source": [
    "<b>ATC (Average Treatment Effect of the Control) = </b> E[Y(1) - Y(0)|X=0]<br><br>\n",
    "<b>ATT (Average Treatment Effect of the Treated) = </b> E[Y(1) - Y(0)|X=1]"
   ]
  },
  {
   "cell_type": "markdown",
   "metadata": {
    "slideshow": {
     "slide_type": "subslide"
    }
   },
   "source": [
    "The parameter <b>matches</b> stands for the number of matches to use for each subject."
   ]
  },
  {
   "cell_type": "code",
   "execution_count": 34,
   "metadata": {
    "slideshow": {
     "slide_type": "fragment"
    }
   },
   "outputs": [
    {
     "name": "stdout",
     "output_type": "stream",
     "text": [
      "\n",
      "Treatment Effect Estimates: Matching\n",
      "\n",
      "                     Est.       S.e.          z      P>|z|      [95% Conf. int.]\n",
      "--------------------------------------------------------------------------------\n",
      "           ATE      3.499      0.634      5.519      0.000      2.256      4.741\n",
      "           ATC      3.567      0.681      5.240      0.000      2.233      4.902\n",
      "           ATT      3.301      0.668      4.941      0.000      1.991      4.610\n",
      "\n"
     ]
    }
   ],
   "source": [
    "model.est_via_matching(weights='inv', matches=2)\n",
    "print(model.estimates)"
   ]
  },
  {
   "cell_type": "markdown",
   "metadata": {
    "slideshow": {
     "slide_type": "subslide"
    }
   },
   "source": [
    "### Propensity"
   ]
  },
  {
   "cell_type": "markdown",
   "metadata": {
    "slideshow": {
     "slide_type": "fragment"
    }
   },
   "source": [
    "e(X) = P(A|X)"
   ]
  },
  {
   "cell_type": "markdown",
   "metadata": {
    "slideshow": {
     "slide_type": "subslide"
    }
   },
   "source": [
    "### ATE via Inverse Propensity Score Weighting Estimator"
   ]
  },
  {
   "cell_type": "markdown",
   "metadata": {
    "slideshow": {
     "slide_type": "fragment"
    }
   },
   "source": [
    "We want to know the value of the Potential Outcomes E[Y(i)] but using observational data we can only have access to E[Y(i)| X=i].<br><br>\n",
    "The probability of the Potential Outcomes can be defined as:<br><br>\n",
    "P(Y(i)) = P(Y(i)|X=i)*P(X=i)<br><br>\n",
    "So we could think that we could compute:<br><br>\n",
    "![image](imgs/prop.resized.png)\n",
    "If we multiply each sample times its inverse propensity score we could compute the Potential Outcomes."
   ]
  },
  {
   "cell_type": "markdown",
   "metadata": {
    "slideshow": {
     "slide_type": "subslide"
    }
   },
   "source": [
    "#### Inverse Propensity Score Weighting Estimator"
   ]
  },
  {
   "cell_type": "markdown",
   "metadata": {
    "slideshow": {
     "slide_type": "fragment"
    }
   },
   "source": [
    "$$ΔIPSW = 1/N * (\\sum_{i=Treatment} \\frac{yi}{e(Xi)} - \\sum_{i=Control} \\frac{yi}{1-e(Xi)})$$"
   ]
  },
  {
   "cell_type": "code",
   "execution_count": 35,
   "metadata": {
    "slideshow": {
     "slide_type": "fragment"
    }
   },
   "outputs": [],
   "source": [
    "model = CausalModel(Y=data.wt82_71.values, D=data.qsmk.values, X=X.values)"
   ]
  },
  {
   "cell_type": "markdown",
   "metadata": {
    "slideshow": {
     "slide_type": "fragment"
    }
   },
   "source": [
    "The <b>est_propensity_s()</b> method applies a Logistic Regression over the covariates."
   ]
  },
  {
   "cell_type": "code",
   "execution_count": 36,
   "metadata": {
    "slideshow": {
     "slide_type": "fragment"
    }
   },
   "outputs": [],
   "source": [
    "model.est_propensity_s()"
   ]
  },
  {
   "cell_type": "code",
   "execution_count": 37,
   "metadata": {
    "slideshow": {
     "slide_type": "subslide"
    }
   },
   "outputs": [],
   "source": [
    "propensity = model.propensity['fitted']"
   ]
  },
  {
   "cell_type": "code",
   "execution_count": 38,
   "metadata": {
    "slideshow": {
     "slide_type": "fragment"
    }
   },
   "outputs": [],
   "source": [
    "df = data\n",
    "df['ips'] = np.where(df.qsmk == 1, 1/propensity, 1/(1-propensity))"
   ]
  },
  {
   "cell_type": "code",
   "execution_count": 39,
   "metadata": {
    "slideshow": {
     "slide_type": "fragment"
    }
   },
   "outputs": [],
   "source": [
    "df['ipsw'] = df.wt82_71 * df['ips']"
   ]
  },
  {
   "cell_type": "code",
   "execution_count": 40,
   "metadata": {
    "slideshow": {
     "slide_type": "fragment"
    }
   },
   "outputs": [],
   "source": [
    "ipswe = (df[df.qsmk==1]['ipsw'].sum() - df[df.qsmk==0]['ipsw'].sum())/df.shape[0]"
   ]
  },
  {
   "cell_type": "code",
   "execution_count": 41,
   "metadata": {
    "slideshow": {
     "slide_type": "fragment"
    }
   },
   "outputs": [
    {
     "name": "stdout",
     "output_type": "stream",
     "text": [
      "The estimated ATE computed using IPSWE is: 3.555669650974624\n"
     ]
    }
   ],
   "source": [
    "print('The estimated ATE computed using IPSWE is: ' + str(ipswe))"
   ]
  },
  {
   "cell_type": "markdown",
   "metadata": {
    "slideshow": {
     "slide_type": "subslide"
    }
   },
   "source": [
    "### Overlap of Treatment and Control Groups in the Covariates Space"
   ]
  },
  {
   "cell_type": "code",
   "execution_count": 42,
   "metadata": {
    "slideshow": {
     "slide_type": "fragment"
    }
   },
   "outputs": [],
   "source": [
    "model = CausalModel(Y=data.wt82_71.values, D=data.qsmk.values, X=X.values)"
   ]
  },
  {
   "cell_type": "code",
   "execution_count": 43,
   "metadata": {
    "slideshow": {
     "slide_type": "subslide"
    }
   },
   "outputs": [
    {
     "name": "stdout",
     "output_type": "stream",
     "text": [
      "\n",
      "Summary Statistics\n",
      "\n",
      "                      Controls (N_c=1163)         Treated (N_t=403)             \n",
      "       Variable         Mean         S.d.         Mean         S.d.     Raw-diff\n",
      "--------------------------------------------------------------------------------\n",
      "              Y        1.984        7.449        4.525        8.748        2.541\n",
      "\n",
      "                      Controls (N_c=1163)         Treated (N_t=403)             \n",
      "       Variable         Mean         S.d.         Mean         S.d.     Nor-diff\n",
      "--------------------------------------------------------------------------------\n",
      "             X0        0.632        0.642        0.690        0.662        0.089\n",
      "             X1       42.788       11.792       46.174       12.215        0.282\n",
      "             X2        2.687        1.153        2.794        1.279        0.088\n",
      "             X3        1.175        0.743        1.251        0.708        0.104\n",
      "             X4        0.146        0.353        0.089        0.286       -0.177\n",
      "             X5        0.534        0.499        0.454        0.499       -0.160\n",
      "             X6       21.192       11.476       18.603       12.402       -0.217\n",
      "             X7       24.088       11.708       26.032       12.743        0.159\n",
      "             X8       70.303       15.176       72.355       15.629        0.133\n",
      "\n"
     ]
    }
   ],
   "source": [
    "print(model.summary_stats)"
   ]
  },
  {
   "cell_type": "markdown",
   "metadata": {
    "slideshow": {
     "slide_type": "fragment"
    }
   },
   "source": [
    "Large values indicate that simple linear adjustment methods may not be adequate for removing biases that are associated with differences in covariates."
   ]
  },
  {
   "cell_type": "markdown",
   "metadata": {
    "slideshow": {
     "slide_type": "subslide"
    }
   },
   "source": [
    "### ATE via Doubly Robust Weighted Estimator"
   ]
  },
  {
   "cell_type": "markdown",
   "metadata": {
    "slideshow": {
     "slide_type": "fragment"
    }
   },
   "source": [
    "We're going to estimate the ATE computing a weighted Linear Regression, weighting each sample using the inverse propensity score."
   ]
  },
  {
   "cell_type": "code",
   "execution_count": 44,
   "metadata": {
    "slideshow": {
     "slide_type": "fragment"
    }
   },
   "outputs": [],
   "source": [
    "model = CausalModel(Y=data.wt82_71.values, D=data.qsmk.values, X=X.values)"
   ]
  },
  {
   "cell_type": "code",
   "execution_count": 45,
   "metadata": {
    "slideshow": {
     "slide_type": "fragment"
    }
   },
   "outputs": [
    {
     "name": "stderr",
     "output_type": "stream",
     "text": [
      "/home/eldar/anaconda3/envs/dl/lib/python3.9/site-packages/causalinference/estimators/weighting.py:23: FutureWarning: `rcond` parameter will change to the default of machine precision times ``max(M, N)`` where M and N are the input matrix dimensions.\n",
      "To use the future default and silence this warning we advise to pass `rcond=None`, to keep using the old, explicitly pass `rcond=-1`.\n",
      "  wlscoef = np.linalg.lstsq(Z_w, Y_w)[0]\n"
     ]
    }
   ],
   "source": [
    "model.est_propensity_s()\n",
    "model.est_via_weighting()"
   ]
  },
  {
   "cell_type": "code",
   "execution_count": 46,
   "metadata": {
    "slideshow": {
     "slide_type": "subslide"
    }
   },
   "outputs": [
    {
     "name": "stdout",
     "output_type": "stream",
     "text": [
      "\n",
      "Treatment Effect Estimates: Weighting\n",
      "\n",
      "                     Est.       S.e.          z      P>|z|      [95% Conf. int.]\n",
      "--------------------------------------------------------------------------------\n",
      "           ATE      3.877      0.482      8.036      0.000      2.932      4.823\n",
      "\n"
     ]
    }
   ],
   "source": [
    "print(model.estimates)"
   ]
  },
  {
   "cell_type": "markdown",
   "metadata": {
    "slideshow": {
     "slide_type": "subslide"
    }
   },
   "source": [
    "### ATE via Trimming"
   ]
  },
  {
   "cell_type": "markdown",
   "metadata": {
    "slideshow": {
     "slide_type": "fragment"
    }
   },
   "source": [
    "The <b>trim_s()</b> method is going to remove samples whose estimated propensity score <= cutoff or >= (1 - cutoff)."
   ]
  },
  {
   "cell_type": "code",
   "execution_count": 47,
   "metadata": {
    "slideshow": {
     "slide_type": "fragment"
    }
   },
   "outputs": [],
   "source": [
    "model = CausalModel(Y=data.wt82_71.values, D=data.qsmk.values, X=X.values)"
   ]
  },
  {
   "cell_type": "code",
   "execution_count": 48,
   "metadata": {
    "slideshow": {
     "slide_type": "fragment"
    }
   },
   "outputs": [],
   "source": [
    "model.est_propensity_s()\n",
    "model.trim_s()\n",
    "model.est_via_matching()"
   ]
  },
  {
   "cell_type": "code",
   "execution_count": 49,
   "metadata": {
    "slideshow": {
     "slide_type": "fragment"
    }
   },
   "outputs": [
    {
     "name": "stdout",
     "output_type": "stream",
     "text": [
      "\n",
      "Treatment Effect Estimates: Matching\n",
      "\n",
      "                     Est.       S.e.          z      P>|z|      [95% Conf. int.]\n",
      "--------------------------------------------------------------------------------\n",
      "           ATE      3.719      0.762      4.880      0.000      2.225      5.212\n",
      "           ATC      3.819      0.826      4.626      0.000      2.201      5.437\n",
      "           ATT      3.447      0.876      3.933      0.000      1.729      5.164\n",
      "\n"
     ]
    }
   ],
   "source": [
    "print(model.estimates)"
   ]
  },
  {
   "cell_type": "code",
   "execution_count": 50,
   "metadata": {
    "slideshow": {
     "slide_type": "subslide"
    }
   },
   "outputs": [],
   "source": [
    "propensity = model.propensity['fitted']\n",
    "cutoff = model.cutoff"
   ]
  },
  {
   "cell_type": "code",
   "execution_count": 51,
   "metadata": {
    "slideshow": {
     "slide_type": "fragment"
    }
   },
   "outputs": [
    {
     "name": "stdout",
     "output_type": "stream",
     "text": [
      "[0.09731427 0.14588255 0.14901795 ... 0.12258264 0.46821307 0.15911705]\n"
     ]
    }
   ],
   "source": [
    "print(propensity)"
   ]
  },
  {
   "cell_type": "code",
   "execution_count": 52,
   "metadata": {
    "slideshow": {
     "slide_type": "fragment"
    }
   },
   "outputs": [
    {
     "name": "stdout",
     "output_type": "stream",
     "text": [
      "0.09465076523563232\n"
     ]
    }
   ],
   "source": [
    "print(cutoff)"
   ]
  },
  {
   "cell_type": "code",
   "execution_count": 53,
   "metadata": {
    "slideshow": {
     "slide_type": "fragment"
    }
   },
   "outputs": [],
   "source": [
    "mask = (propensity > cutoff) & (propensity < 1 - cutoff)"
   ]
  },
  {
   "cell_type": "code",
   "execution_count": 54,
   "metadata": {
    "slideshow": {
     "slide_type": "fragment"
    }
   },
   "outputs": [
    {
     "data": {
      "text/plain": [
       "<AxesSubplot:xlabel='active', ylabel='wt82_71'>"
      ]
     },
     "execution_count": 54,
     "metadata": {},
     "output_type": "execute_result"
    },
    {
     "data": {
      "image/png": "[encoded data removed]",
      "text/plain": [
       "<Figure size 432x288 with 2 Axes>"
      ]
     },
     "metadata": {
      "needs_background": "light"
     },
     "output_type": "display_data"
    }
   ],
   "source": [
    "data[mask].plot.scatter(x='active', y='wt82_71', c='qsmk', cmap='rainbow', colorbar=True)"
   ]
  },
  {
   "cell_type": "markdown",
   "metadata": {
    "slideshow": {
     "slide_type": "subslide"
    }
   },
   "source": [
    "### ATE via Stratification"
   ]
  },
  {
   "cell_type": "markdown",
   "metadata": {
    "slideshow": {
     "slide_type": "fragment"
    }
   },
   "source": [
    "If we don't have a prior knowledge about what 'similar samples' could be, we can group these samples inside clusters of similar propensity scores. After that, we can compute the ATE of each cluster of subjects."
   ]
  },
  {
   "cell_type": "code",
   "execution_count": 55,
   "metadata": {
    "slideshow": {
     "slide_type": "fragment"
    }
   },
   "outputs": [],
   "source": [
    "model = CausalModel(Y=data.wt82_71.values, D=data.qsmk.values, X=X.values)"
   ]
  },
  {
   "cell_type": "code",
   "execution_count": 56,
   "metadata": {
    "slideshow": {
     "slide_type": "fragment"
    }
   },
   "outputs": [],
   "source": [
    "model.est_propensity_s()\n",
    "model.stratify_s()"
   ]
  },
  {
   "cell_type": "code",
   "execution_count": 57,
   "metadata": {
    "slideshow": {
     "slide_type": "subslide"
    }
   },
   "outputs": [
    {
     "name": "stdout",
     "output_type": "stream",
     "text": [
      "\n",
      "Stratification Summary\n",
      "\n",
      "              Propensity Score         Sample Size     Ave. Propensity   Outcome\n",
      "   Stratum      Min.      Max.  Controls   Treated  Controls   Treated  Raw-diff\n",
      "--------------------------------------------------------------------------------\n",
      "         1     0.033     0.127       179        18     0.093     0.096     2.147\n",
      "         2     0.127     0.172       167        29     0.149     0.152     4.979\n",
      "         3     0.172     0.243       302        89     0.209     0.212     3.742\n",
      "         4     0.243     0.281       152        44     0.261     0.263     6.632\n",
      "         5     0.281     0.332       130        65     0.303     0.303     1.482\n",
      "         6     0.332     0.393       126        70     0.361     0.361     3.631\n",
      "         7     0.393     0.450        65        33     0.417     0.418     2.358\n",
      "         8     0.450     0.508        28        21     0.473     0.480     3.195\n",
      "         9     0.509     0.865        14        34     0.579     0.590     1.466\n",
      "\n"
     ]
    }
   ],
   "source": [
    "print(model.strata)"
   ]
  },
  {
   "cell_type": "markdown",
   "metadata": {
    "slideshow": {
     "slide_type": "subslide"
    }
   },
   "source": [
    "We can compute the overall ATE from the different strata using the <b>est_via_blocking</b> method."
   ]
  },
  {
   "cell_type": "code",
   "execution_count": 58,
   "metadata": {
    "slideshow": {
     "slide_type": "fragment"
    }
   },
   "outputs": [
    {
     "name": "stderr",
     "output_type": "stream",
     "text": [
      "/home/eldar/anaconda3/envs/dl/lib/python3.9/site-packages/causalinference/estimators/ols.py:21: FutureWarning: `rcond` parameter will change to the default of machine precision times ``max(M, N)`` where M and N are the input matrix dimensions.\n",
      "To use the future default and silence this warning we advise to pass `rcond=None`, to keep using the old, explicitly pass `rcond=-1`.\n",
      "  olscoef = np.linalg.lstsq(Z, Y)[0]\n"
     ]
    }
   ],
   "source": [
    "model.est_via_blocking()"
   ]
  },
  {
   "cell_type": "code",
   "execution_count": 59,
   "metadata": {
    "slideshow": {
     "slide_type": "fragment"
    }
   },
   "outputs": [
    {
     "name": "stdout",
     "output_type": "stream",
     "text": [
      "\n",
      "Treatment Effect Estimates: Blocking\n",
      "\n",
      "                     Est.       S.e.          z      P>|z|      [95% Conf. int.]\n",
      "--------------------------------------------------------------------------------\n",
      "           ATE      3.625      0.482      7.515      0.000      2.680      4.571\n",
      "           ATC      3.667      0.511      7.177      0.000      2.666      4.668\n",
      "           ATT      3.505      0.466      7.517      0.000      2.591      4.418\n",
      "\n"
     ]
    }
   ],
   "source": [
    "print(model.estimates)"
   ]
  }
 ],
 "metadata": {
  "celltoolbar": "Slideshow",
  "kernelspec": {
   "display_name": "Python 3",
   "language": "python",
   "name": "python3"
  },
  "language_info": {
   "codemirror_mode": {
    "name": "ipython",
    "version": 3
   },
   "file_extension": ".py",
   "mimetype": "text/x-python",
   "name": "python",
   "nbconvert_exporter": "python",
   "pygments_lexer": "ipython3",
   "version": "3.8.8"
  }
 },
 "nbformat": 4,
 "nbformat_minor": 4
}
